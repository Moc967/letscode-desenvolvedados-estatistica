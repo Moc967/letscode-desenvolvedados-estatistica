{
 "nbformat": 4,
 "nbformat_minor": 5,
 "metadata": {
  "kernelspec": {
   "display_name": "Python 3 (ipykernel)",
   "language": "python",
   "name": "python3"
  },
  "language_info": {
   "codemirror_mode": {
    "name": "ipython",
    "version": 3
   },
   "file_extension": ".py",
   "mimetype": "text/x-python",
   "name": "python",
   "nbconvert_exporter": "python",
   "pygments_lexer": "ipython3",
   "version": "3.9.7"
  },
  "varInspector": {
   "cols": {
    "lenName": 16,
    "lenType": 16,
    "lenVar": 40
   },
   "kernels_config": {
    "python": {
     "delete_cmd_postfix": "",
     "delete_cmd_prefix": "del ",
     "library": "var_list.py",
     "varRefreshCmd": "print(var_dic_list())"
    },
    "r": {
     "delete_cmd_postfix": ") ",
     "delete_cmd_prefix": "rm(",
     "library": "var_list.r",
     "varRefreshCmd": "cat(var_dic_list()) "
    }
   },
   "types_to_exclude": [
    "module",
    "function",
    "builtin_function_or_method",
    "instance",
    "_Feature"
   ],
   "window_display": false
  },
  "colab": {
   "name": "L1 - Estatística Básica.ipynb",
   "provenance": []
  }
 },
 "cells": [
  {
   "cell_type": "markdown",
   "metadata": {
    "id": "bf41096b",
    "pycharm": {
     "name": "#%% md\n"
    }
   },
   "source": [
    "# Exercícios - Estatística I"
   ],
   "id": "bf41096b"
  },
  {
   "cell_type": "markdown",
   "metadata": {
    "id": "dc9efb9e",
    "pycharm": {
     "name": "#%% md\n"
    }
   },
   "source": [
    "### Questão 1"
   ],
   "id": "dc9efb9e"
  },
  {
   "cell_type": "markdown",
   "metadata": {
    "id": "f0f7505b",
    "pycharm": {
     "name": "#%% md\n"
    }
   },
   "source": [
    "Os exercícios de 1 a 5 serão desenvolvidos utilizando o _dataset_ `Titanic.csv`:\n",
    "    \n",
    "Calcule a frequência absoluta para os sobreviventes no _Titanic_.\n",
    "\n",
    "__Dica.:__ Utilize a função `.value_counts()`"
   ],
   "id": "f0f7505b"
  },
  {
   "cell_type": "markdown",
   "metadata": {
    "id": "02cce555",
    "pycharm": {
     "name": "#%% md\n"
    }
   },
   "source": [
    "Carregando as principais bibliotecas que iremos utilizar:"
   ],
   "id": "02cce555"
  },
  {
   "cell_type": "code",
   "metadata": {
    "ExecuteTime": {
     "end_time": "2021-10-08T18:56:44.331870Z",
     "start_time": "2021-10-08T18:56:39.679403Z"
    },
    "id": "35fab489",
    "pycharm": {
     "name": "#%%\n"
    }
   },
   "source": [
    "import pandas as pd\n",
    "import numpy as np\n",
    "import matplotlib.pyplot as plt\n",
    "import seaborn as sns\n",
    "\n",
    "# sns.load_dataset('titanic')"
   ],
   "id": "35fab489",
   "execution_count": null,
   "outputs": []
  },
  {
   "cell_type": "code",
   "metadata": {
    "id": "21d68928",
    "pycharm": {
     "name": "#%%\n"
    }
   },
   "source": [],
   "id": "21d68928",
   "execution_count": null,
   "outputs": []
  },
  {
   "cell_type": "markdown",
   "metadata": {
    "id": "70fbcc9a",
    "pycharm": {
     "name": "#%% md\n"
    }
   },
   "source": [
    "### Questão 2"
   ],
   "id": "70fbcc9a"
  },
  {
   "cell_type": "markdown",
   "metadata": {
    "id": "26ebb4fc",
    "pycharm": {
     "name": "#%% md\n"
    }
   },
   "source": [
    "Os exercícios de 1 a 5 serão desenvolvidos utilizando o _dataset_ `Titanic.csv`:\n",
    "    \n",
    "Calcule a frequência relativa, relativa percentual e acumulativa para os sobreviventes no _Titanic_.\n",
    "\n",
    "__Dica.:__ Utilize a função `.value_counts()`"
   ],
   "id": "26ebb4fc"
  },
  {
   "cell_type": "code",
   "metadata": {
    "id": "1b111474",
    "pycharm": {
     "name": "#%%\n"
    }
   },
   "source": [],
   "id": "1b111474",
   "execution_count": null,
   "outputs": []
  },
  {
   "cell_type": "markdown",
   "metadata": {
    "id": "a1490edd",
    "pycharm": {
     "name": "#%% md\n"
    }
   },
   "source": [
    "### Questão 3"
   ],
   "id": "a1490edd"
  },
  {
   "cell_type": "markdown",
   "metadata": {
    "id": "045b0f2a",
    "pycharm": {
     "name": "#%% md\n"
    }
   },
   "source": [
    "Os exercícios de 1 a 5 serão desenvolvidos utilizando o _dataset_ `Titanic.csv`:\n",
    "    \n",
    "Utilizando a coluna `Age` do _dataset Titanic_, defina as principais métricas estatísticas para essa variável tais como:\n",
    "- Média;\n",
    "- Desvio Padrão;\n",
    "- Mínimo;\n",
    "- Primeiro Quartil;\n",
    "- Segundo Quartil (Mediana);\n",
    "- Terceiro Quartil;\n",
    "- Distância Interquartil (IQR);\n",
    "- Máximo;\n",
    "- Skewness;\n",
    "- Moda."
   ],
   "id": "045b0f2a"
  },
  {
   "cell_type": "code",
   "metadata": {
    "id": "70c58f1a",
    "pycharm": {
     "name": "#%%\n"
    }
   },
   "source": [],
   "id": "70c58f1a",
   "execution_count": null,
   "outputs": []
  },
  {
   "cell_type": "markdown",
   "metadata": {
    "id": "0c48d8bc",
    "pycharm": {
     "name": "#%% md\n"
    }
   },
   "source": [
    "### Questão 4"
   ],
   "id": "0c48d8bc"
  },
  {
   "cell_type": "markdown",
   "metadata": {
    "id": "02b13cc4",
    "pycharm": {
     "name": "#%% md\n"
    }
   },
   "source": [
    "Os exercícios de 1 a 5 serão desenvolvidos utilizando o _dataset_ `Titanic.csv`:\n",
    "    \n",
    "Crie um gráfico da dispersão das idades dos passageiros do _Titanic_ e identifique os pontos onde se encontram a média, mediana e moda das idades."
   ],
   "id": "02b13cc4"
  },
  {
   "cell_type": "code",
   "metadata": {
    "id": "379adf78",
    "pycharm": {
     "name": "#%%\n"
    }
   },
   "source": [],
   "id": "379adf78",
   "execution_count": null,
   "outputs": []
  },
  {
   "cell_type": "markdown",
   "metadata": {
    "id": "43458232",
    "pycharm": {
     "name": "#%% md\n"
    }
   },
   "source": [
    "### Questão 5"
   ],
   "id": "43458232"
  },
  {
   "cell_type": "markdown",
   "metadata": {
    "id": "a722484e",
    "pycharm": {
     "name": "#%% md\n"
    }
   },
   "source": [
    "Os exercícios de 1 a 5 serão desenvolvidos utilizando o _dataset_ `Titanic.csv`:\n",
    "    \n",
    "Ainda trabalhando com os valores das idades crie três _Boxplots_:\n",
    "- _Boxplot_ das idades para todos os passageiros;\n",
    "- _Boxplot_ das idades dos passageiros separados pelo sexo.\n",
    "- _Boxplot_ das idades dos passageiros separados pelo sexo e por sobreviventes."
   ],
   "id": "a722484e"
  },
  {
   "cell_type": "code",
   "metadata": {
    "id": "2924a6b8",
    "pycharm": {
     "name": "#%%\n"
    }
   },
   "source": [],
   "id": "2924a6b8",
   "execution_count": null,
   "outputs": []
  },
  {
   "cell_type": "markdown",
   "metadata": {
    "ExecuteTime": {
     "end_time": "2021-10-08T18:58:25.038529Z",
     "start_time": "2021-10-08T18:58:25.027559Z"
    },
    "id": "d0eda9fb",
    "pycharm": {
     "name": "#%% md\n"
    }
   },
   "source": [
    "Com o dataset `penguins`, responda as questões abaixo:\n",
    "\n",
    "sns.load_dataset('penguins')"
   ],
   "id": "d0eda9fb"
  },
  {
   "cell_type": "markdown",
   "metadata": {
    "id": "9060a1ca",
    "pycharm": {
     "name": "#%% md\n"
    }
   },
   "source": [
    "### Questão 6"
   ],
   "id": "9060a1ca"
  },
  {
   "cell_type": "markdown",
   "metadata": {
    "id": "e8e2272c",
    "pycharm": {
     "name": "#%% md\n"
    }
   },
   "source": [
    "Classifique o tipo de dado de cada coluna"
   ],
   "id": "e8e2272c"
  },
  {
   "cell_type": "code",
   "metadata": {
    "id": "6c8561b5",
    "pycharm": {
     "name": "#%%\n"
    }
   },
   "source": [],
   "id": "6c8561b5",
   "execution_count": null,
   "outputs": []
  },
  {
   "cell_type": "markdown",
   "metadata": {
    "id": "cd8fe357",
    "pycharm": {
     "name": "#%% md\n"
    }
   },
   "source": [
    "### Questão 7\n",
    "Calcule a frequência absoluta para cada espécie de pinguim"
   ],
   "id": "cd8fe357"
  },
  {
   "cell_type": "code",
   "metadata": {
    "id": "820b61a5",
    "pycharm": {
     "name": "#%%\n"
    }
   },
   "source": [],
   "id": "820b61a5",
   "execution_count": null,
   "outputs": []
  },
  {
   "cell_type": "markdown",
   "metadata": {
    "ExecuteTime": {
     "end_time": "2021-10-08T19:01:38.859000Z",
     "start_time": "2021-10-08T19:01:38.844322Z"
    },
    "id": "620b2761",
    "pycharm": {
     "name": "#%% md\n"
    }
   },
   "source": [
    "### Questão 8\n",
    "Calcule a frequência relativa, relativa percentual e acumulativa para os sobreviventes no Titanic"
   ],
   "id": "620b2761"
  },
  {
   "cell_type": "code",
   "metadata": {
    "id": "4e52e2ba",
    "pycharm": {
     "name": "#%%\n"
    }
   },
   "source": [],
   "id": "4e52e2ba",
   "execution_count": null,
   "outputs": []
  },
  {
   "cell_type": "markdown",
   "metadata": {
    "id": "8c784572",
    "pycharm": {
     "name": "#%% md\n"
    }
   },
   "source": [
    "### Questão 9\n",
    "Utilizando a coluna `body_mass_g` do dataset Penguins, defina as principais métricas estatísticas para essa variável tais como:\n",
    "\n",
    "- Média;\n",
    "- Desvio Padrão;\n",
    "- Mínimo;\n",
    "- Primeiro Quartil;\n",
    "- Segundo Quartil (Mediana);\n",
    "- Terceiro Quartil;\n",
    "- Distância Interquartil (IQR);\n",
    "- Máximo;\n",
    "- Skewness;\n",
    "- Moda."
   ],
   "id": "8c784572"
  },
  {
   "cell_type": "markdown",
   "metadata": {
    "id": "13c53261",
    "pycharm": {
     "name": "#%% md\n"
    }
   },
   "source": [
    "### Questão 10\n",
    "Crie um gráfico da dispersão da massa dos pinguins e identifique os pontos onde se encontram a média, mediana e moda das idades."
   ],
   "id": "13c53261"
  },
  {
   "cell_type": "code",
   "metadata": {
    "id": "10ac9d4d",
    "pycharm": {
     "name": "#%%\n"
    }
   },
   "source": [],
   "id": "10ac9d4d",
   "execution_count": null,
   "outputs": []
  },
  {
   "cell_type": "markdown",
   "metadata": {
    "ExecuteTime": {
     "end_time": "2021-10-08T19:07:27.672797Z",
     "start_time": "2021-10-08T19:07:27.657230Z"
    },
    "id": "312a2d79",
    "pycharm": {
     "name": "#%% md\n"
    }
   },
   "source": [
    "### Questão 11\n",
    "Ainda trabalhando com os valores das massas dos pinguins crie três Boxplots:\n",
    "\n",
    "- Boxplot das massas para todos os pinguins\n",
    "- Boxplot das massas dos pinguins separados pelo sexo.\n",
    "- Boxplot das massas dos pinguins separados pelo sexo e pela espécies."
   ],
   "id": "312a2d79"
  },
  {
   "cell_type": "code",
   "metadata": {
    "id": "c82a0953",
    "pycharm": {
     "name": "#%%\n"
    }
   },
   "source": [],
   "id": "c82a0953",
   "execution_count": null,
   "outputs": []
  }
 ]
}