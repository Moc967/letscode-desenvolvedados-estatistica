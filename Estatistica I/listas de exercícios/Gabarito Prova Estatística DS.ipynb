{
 "cells": [
  {
   "cell_type": "markdown",
   "id": "d3346e03",
   "metadata": {},
   "source": [
    "1) Identifique nas alternativas abaixo, a opção que contenha apenas métricas de posição:\n",
    "\n",
    "R: Mediana e Moda"
   ]
  },
  {
   "cell_type": "markdown",
   "id": "f3cdc782",
   "metadata": {},
   "source": []
  },
  {
   "cell_type": "markdown",
   "id": "da01ba40",
   "metadata": {},
   "source": [
    "2) Dado o boxplot conforme a figura abaixo:\n",
    "\n",
    "<img src=\"https://i0.wp.com/www.abgconsultoria.com.br/blog/wp-content/uploads/boxplot-1-1024x664.png?resize=1024%2C664\" width=400>\n",
    "\n",
    "Como é definida a fórmula para os limites __superior__ e __inferior__ do boxplot que separa os dados da distribuição dos prováveis _outliers_?\n",
    "\n",
    "R: Q3 + 1.5(Q3 - Q1), Q1 - 1.5(Q3 - Q1)"
   ]
  },
  {
   "cell_type": "markdown",
   "id": "88fec6d9",
   "metadata": {},
   "source": []
  },
  {
   "cell_type": "markdown",
   "id": "3a6e257a",
   "metadata": {},
   "source": [
    "3) Rafael queria levar dinheiro na escola para comprar balas, mas sua mãe só deixou que ele levasse duas moedas para a escola. Sabendo que dentro do cofre do Rafael, temos as seguintes moedas:\n",
    "\n",
    "10 centavos = 5 moedas\n",
    "\n",
    "25 centavos = 3 moedas\n",
    "\n",
    "50 centavos = 10 moedas\n",
    "\n",
    "01 real = 2 moedas\n",
    "\n",
    "Qual a probabilidade de Rafael retirar respectivamente uma moeda de 1 real e uma moeda de 25 centavos?\n",
    "\n",
    "R: (2/20) * (3/19) = 1.6%"
   ]
  },
  {
   "cell_type": "code",
   "execution_count": 9,
   "id": "7ef7c5ad",
   "metadata": {},
   "outputs": [
    {
     "data": {
      "text/plain": [
       "'1.6%'"
      ]
     },
     "execution_count": 9,
     "metadata": {},
     "output_type": "execute_result"
    }
   ],
   "source": [
    "str(round(100 * (2/20) * (3/19),1)) + '%'"
   ]
  },
  {
   "cell_type": "markdown",
   "id": "30efc2df",
   "metadata": {},
   "source": []
  },
  {
   "cell_type": "markdown",
   "id": "c386d598",
   "metadata": {},
   "source": [
    "4) Em uma filial de um banco, 40% dos clientes que vão ao caixa eletrônico sacam dinheiro do caixa. Utilizando de uma distribuição binomial, qual é a probabilidade de no máximo 12 clientes sacarem dinheiro em um dia que tivemos 30 clientes no caixa eletrônico?"
   ]
  },
  {
   "cell_type": "code",
   "execution_count": 28,
   "id": "0286689c",
   "metadata": {},
   "outputs": [
    {
     "data": {
      "text/plain": [
       "0.5784657285461176"
      ]
     },
     "execution_count": 28,
     "metadata": {},
     "output_type": "execute_result"
    }
   ],
   "source": [
    "from scipy.stats import binom\n",
    "\n",
    "binom.cdf(12,30,.4)"
   ]
  },
  {
   "cell_type": "markdown",
   "id": "46b56106",
   "metadata": {},
   "source": []
  },
  {
   "cell_type": "markdown",
   "id": "cbdad401",
   "metadata": {},
   "source": [
    "5) Em um centro de distribuição logístico da Amazon, chegam cerca de 1.440 produtos por dia. Sabendo que segue uma distribuição de Poisson, qual a probabilidade de que em um minuto cheguem 3 produtos?"
   ]
  },
  {
   "cell_type": "code",
   "execution_count": 32,
   "id": "12e1e45c",
   "metadata": {},
   "outputs": [
    {
     "data": {
      "text/plain": [
       "'6.1%'"
      ]
     },
     "execution_count": 32,
     "metadata": {},
     "output_type": "execute_result"
    }
   ],
   "source": [
    "from scipy.stats import poisson\n",
    "\n",
    "str((round(100*poisson.pmf(3,1),1))) + '%'"
   ]
  },
  {
   "cell_type": "markdown",
   "id": "1b528ed7",
   "metadata": {},
   "source": []
  },
  {
   "cell_type": "markdown",
   "id": "d3b805f6",
   "metadata": {},
   "source": [
    "6) Suponha que 60% das mulheres que compram kits de gravidez instantâneos estejam, de fato, grávidas. Para um kit de uma marca específica, se a mulher estiver grávida, o teste fornecerá resultado positivo 96% das vezes e negativo 4% das vezes (um “falso negativo\"). Se ela não estiver grávida, o teste resultará positivo em 1% das vezes (um “falso positivo”) e negativo 99% das vezes . Suponha que um teste resulte positivo. Qual a probabilidade de que a mulher esteja realmente grávida?"
   ]
  },
  {
   "cell_type": "markdown",
   "id": "d29b794c",
   "metadata": {},
   "source": [
    "p(g) = 0.6 \n",
    "\n",
    "p(+/g) = 0.96\n",
    "\n",
    "p(-/g) = 0.04\n",
    "\n",
    "p(+/ ~g) = 0.01\n",
    "\n",
    "p(-/ ~g) = 0.99\n",
    "\n",
    "p(g/+) = p(+/g)p(g)/p(+)\n",
    "\n",
    "p(+) = p(+ $\\cap$ g) + p(+ $\\cap$ ~g) = p(+/g) * p(g) + p(+/ ~g) * p( ~g)\n"
   ]
  },
  {
   "cell_type": "code",
   "execution_count": 36,
   "id": "d23c232d",
   "metadata": {},
   "outputs": [
    {
     "data": {
      "text/plain": [
       "0.993103448275862"
      ]
     },
     "execution_count": 36,
     "metadata": {},
     "output_type": "execute_result"
    }
   ],
   "source": [
    "p_positivo = 0.96 * 0.6 + 0.01 * 0.4\n",
    "\n",
    "p_gravida_dado_positivo =  0.96 * 0.6 / p_positivo\n",
    "\n",
    "p_gravida_dado_positivo\n",
    "\n"
   ]
  },
  {
   "cell_type": "markdown",
   "id": "d8d7d6bd",
   "metadata": {},
   "source": []
  },
  {
   "cell_type": "markdown",
   "id": "dba98fda",
   "metadata": {},
   "source": [
    "7) Uma máquina de sorvete está regulada de modo a servir uma média de 80g por casquinha. Se a quantidade servida por casquinha seguir uma distribuição normal com desvio padrão de 8g, qual a porcentagem de casquinhas que conterão mais de 90g de sorvete?"
   ]
  },
  {
   "cell_type": "code",
   "execution_count": 42,
   "id": "c34e545d",
   "metadata": {},
   "outputs": [
    {
     "data": {
      "text/plain": [
       "'10.6%'"
      ]
     },
     "execution_count": 42,
     "metadata": {},
     "output_type": "execute_result"
    }
   ],
   "source": [
    "from scipy.stats import norm\n",
    "\n",
    "str(round(100* norm.sf(x = 90, loc = 80, scale = 8),1)) + '%'"
   ]
  },
  {
   "cell_type": "markdown",
   "id": "231c7c71",
   "metadata": {},
   "source": []
  },
  {
   "cell_type": "markdown",
   "id": "4e0156f1",
   "metadata": {},
   "source": [
    "8) O tempo para fabricar um perfume em uma empresa é descrito por uma variável aleatória X, medida em horas, com distribuição normal de média $\\mu$ = 7 e desvio padrão $\\sigma$ = 2. Qual a probabilidade de que um perfume será finalizado entre 4 e 11 horas?"
   ]
  },
  {
   "cell_type": "code",
   "execution_count": 72,
   "id": "642a43d7",
   "metadata": {},
   "outputs": [
    {
     "data": {
      "text/plain": [
       "'91.0%'"
      ]
     },
     "execution_count": 72,
     "metadata": {},
     "output_type": "execute_result"
    }
   ],
   "source": [
    "str(round(100*(norm.cdf(2) - norm.cdf(-1.5)),1)) + '%'"
   ]
  },
  {
   "cell_type": "markdown",
   "id": "b2d12933",
   "metadata": {},
   "source": []
  },
  {
   "cell_type": "markdown",
   "id": "0d43fef5",
   "metadata": {},
   "source": [
    "9) Dados os tipos de amostragem e as definições dos mesmos, assinale a alternativa que indique cada tipo de amostragem com a respectiva definição:\n",
    "\n",
    "Tipos de Amostragem:\n",
    "\n",
    "1 - Amostragem Aleatória Simples\n",
    "\n",
    "2 - Amostragem Estratificada\n",
    "\n",
    "3 - Amostragem por Conglomerado\n",
    "\n",
    "Definições:\n",
    "\n",
    "I - Método de amostragem onde a população é dividida em grupos (estratos) segundo algumas características conhecidas sobre a população em estudo;\n",
    "\n",
    "II - Método de amostragem que divide em subpopulações (conglomerados), onde escolhem aleatóriamente por amostragem simples as subpopulações e todos os elementos de uma subpopulação irão fazer parte da amostra;\n",
    "\n",
    "III - Método de amostragem mais simples onde serão escolhidos aleatoriamente elementos com ou sem reposição.\n",
    "\n",
    "\n",
    "R: 1-III, 2-I, 3-II"
   ]
  },
  {
   "cell_type": "markdown",
   "id": "cb3adad1",
   "metadata": {},
   "source": []
  },
  {
   "cell_type": "markdown",
   "id": "8f7f29ef",
   "metadata": {},
   "source": [
    "10) Um fabricante de refrigerante anunciou que o índice de cafeína do seu refrigerante de cola é igual a 35mg por lata. Um laboratório realizou 20 análises do índice de cafeína obtendo os resultados (37, 34, 36, 37, 35, 32, 30, 35, 34, 36, 39, 38, 34, 35, 31, 30, 33, 35, 36, 31). Sabe-se que o índice de cafeína do refrigerante de cola dessa marca se distribui normalmente com variância igual a 4. Responda respectivamente a conclusão sobre o teste e o valor crítico para este teste com nível de significância de 5%? Utilize da suposição que queremos identificar se a média de cafeína caso não seja 35mg, seja maior que esse valor (caso unicaudal do teste)"
   ]
  },
  {
   "cell_type": "code",
   "execution_count": 150,
   "id": "e1f1e9a0",
   "metadata": {},
   "outputs": [],
   "source": [
    "import numpy as np\n",
    "import pandas as pd\n",
    "from statsmodels.stats.weightstats import ztest"
   ]
  },
  {
   "cell_type": "code",
   "execution_count": 152,
   "id": "0845e2da",
   "metadata": {},
   "outputs": [
    {
     "data": {
      "text/plain": [
       "34.4"
      ]
     },
     "execution_count": 152,
     "metadata": {},
     "output_type": "execute_result"
    }
   ],
   "source": [
    "dados = [37, 34, 36, 37, 35, 32, 30, 35, 34, 36, 39, 38, 34, 35, 31, 30, 33, 35, 36, 31]\n",
    "dados = pd.Series(dados)\n",
    "\n",
    "dados.mean()"
   ]
  },
  {
   "cell_type": "code",
   "execution_count": 149,
   "id": "5745cd11",
   "metadata": {},
   "outputs": [
    {
     "name": "stdout",
     "output_type": "stream",
     "text": [
      "Não rejeita a hipótese nula\n",
      "35.74\n"
     ]
    },
    {
     "data": {
      "text/plain": [
       "(-1.341640786499877, 1.6448536269514729, 0.9101437525605005, 35.74)"
      ]
     },
     "execution_count": 149,
     "metadata": {},
     "output_type": "execute_result"
    }
   ],
   "source": [
    "mu = 35\n",
    "sigma = 2\n",
    "media = dados.mean()\n",
    "alpha = 0.05\n",
    "n = len(dados)\n",
    "\n",
    "z_calculado = (media - mu)/(sigma/n**.5)\n",
    "z_critico = norm.isf(.05)\n",
    "\n",
    "pvalue = norm.sf(z_calculado)\n",
    "\n",
    "if pvalue < 0.05:\n",
    "    print('Rejeita a hipótese nula')\n",
    "    print(round(mu + z_critico * sigma/n**.5, 2))\n",
    "    \n",
    "else:\n",
    "    print('Não rejeita a hipótese nula')\n",
    "    print(round(mu + z_critico * sigma/n**.5, 2))\n",
    "    \n",
    "    \n",
    "z_calculado, z_critico, pvalue, round(mu + z_critico * sigma/n**.5, 2)\n"
   ]
  },
  {
   "cell_type": "code",
   "execution_count": null,
   "id": "65322a30",
   "metadata": {},
   "outputs": [],
   "source": []
  },
  {
   "cell_type": "markdown",
   "id": "d1291a24",
   "metadata": {},
   "source": [
    "11) Para que uma série temporal seja considerada estacionária ou parcialmente estacionária, qual das alternativas abaixo deve ser verdadeira?\n",
    "\n",
    "R: média e variância constantes"
   ]
  },
  {
   "cell_type": "code",
   "execution_count": null,
   "id": "8e31fad9",
   "metadata": {},
   "outputs": [],
   "source": []
  },
  {
   "cell_type": "markdown",
   "id": "a382f55f",
   "metadata": {},
   "source": [
    "12) Escolha nas alternativas abaixo, qual é a componente de uma série temporal identificada como qualquer alteração irregular e inexplicável?\n",
    "\n",
    "R: Ruído Aleatório"
   ]
  },
  {
   "cell_type": "code",
   "execution_count": null,
   "id": "418b60c9",
   "metadata": {},
   "outputs": [],
   "source": []
  },
  {
   "cell_type": "code",
   "execution_count": null,
   "id": "f26cb0c4",
   "metadata": {},
   "outputs": [],
   "source": []
  },
  {
   "cell_type": "code",
   "execution_count": null,
   "id": "a2a29764",
   "metadata": {},
   "outputs": [],
   "source": []
  },
  {
   "cell_type": "code",
   "execution_count": null,
   "id": "f2745ef8",
   "metadata": {
    "scrolled": true
   },
   "outputs": [],
   "source": []
  }
 ],
 "metadata": {
  "kernelspec": {
   "display_name": "Python 3 (ipykernel)",
   "language": "python",
   "name": "python3"
  },
  "language_info": {
   "codemirror_mode": {
    "name": "ipython",
    "version": 3
   },
   "file_extension": ".py",
   "mimetype": "text/x-python",
   "name": "python",
   "nbconvert_exporter": "python",
   "pygments_lexer": "ipython3",
   "version": "3.9.7"
  }
 },
 "nbformat": 4,
 "nbformat_minor": 5
}
