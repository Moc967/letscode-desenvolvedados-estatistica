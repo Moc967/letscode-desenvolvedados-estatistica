import numpy as np
import matplotlib.pyplot as plt
# %matplotlib inline

p = 0.6 # chance de sair cara
vp = [] # lista que armazena a frequencia de ocorrencias
vsim = [] # armazena o numero de simulacoes
Nmax = 1000 # numero maximo de simulacoes
for nsim in np.arange(1,Nmax,10): # Simula de 1 ate Nmax
    nhead = 0 # numero de caras
    for i in range(1,nsim): # o numero de simulacoes aumenta
        if(np.random.uniform() < p):
            nhead = nhead + 1
    vp.append(nhead/nsim)
    vsim.append(nsim)
# Mostra os resultados em uma figura
plt.figure(figsize=(8,6))
plt.plot(vsim, vp, linestyle='-', color="blue", linewidth=2,label = 'Valor simulado')
plt.axhline(y=p, color='r', linestyle='--', label = 'Valor teorico')
plt.ylabel("Fracao de caras", fontsize=20)
plt.xlabel("Numero de experimentos", fontsize=20)
plt.xlim([0.0, Nmax])
plt.ylim([0.0, 1.0])
plt.legend()
plt.show(True)
