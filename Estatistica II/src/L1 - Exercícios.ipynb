{
 "cells": [
  {
   "cell_type": "markdown",
   "id": "5a63a11c",
   "metadata": {
    "id": "5a63a11c",
    "pycharm": {
     "name": "#%% md\n"
    }
   },
   "source": [
    "# L1 - Lista de Exercícios 1\n",
    "\n",
    "__Objetivo:__ Desenvolver e revisar os conteúdos desenvolvidos até então no modulo;\n",
    "\n",
    "__Conteúdo:__ Serão 2 Exercícios obrigatórios (8 pontos) e um extra opcional (2 pontos), totalizando 10 pontos;\n",
    "\n",
    "__Forma de Entrega:__ _Jupyter Notebook_ individualmente pelo _Class_;\n",
    "\n",
    "__Data Limite para entrega:__ até o dia 05/08/2022;\n",
    "\n",
    "__Obs:__ O tempo de aula hoje será exclusivamente para o desenvolvimento dos exercícios e monitoria de dúvidas sobre os exercícios.\n",
    "\n",
    "<br>\n",
    "\n",
    "__E1__ Utilizando o _dataset_ `sports` disponibilizado no _drive_, desenvolva os tópicos a seguir:\n",
    "\n",
    "- Limpeza e tratamento dos dados;\n",
    "- Análise Exploratória dos Dados;\n",
    "- Identificação do Modelo de _Machine Learning_ mais adequado para a aplicação (Regressão ou classificação);\n",
    "- Execução do modelo escolhido e levantamento das métricas;\n",
    "\n",
    "<br>\n",
    "\n",
    "__E2__ Utilizando ao _dataset_ `insurance.csv`disponibilizado no _drive_, desenvolva os tópicos a seguir:\n",
    "\n",
    "- Limpeza e tratamento dos dados;\n",
    "- Análise Exploratória dos Dados;\n",
    "- Utilize um modelo de Regressão Linear para chegar nos valores de seguros cobrados;\n",
    "- Utilize agora um modelo de Regressão Logística para fazer a classificação das classes de seguros;\n",
    "\n",
    "__DICA:__ As classes de seguros precisam ser criadas (não existe no _dataset_). Desenvolva a _target_ explorando a relação entre os valores cobrados pela idade dos segurados. \n",
    "\n",
    "<br>\n",
    "\n",
    "__EE__ Dando continuidade ao exercício desenvolvido sobre o _dataset_ `COVID`, ou seja, após a limpeza dos dados e análise exploratória dos dados (isso não precisa ter nesse exercício, só a base já tratada). Desenvolva os tópicos a seguir:\n",
    "\n",
    " - Utilize uma Regressão Logística para as predições de resultados positivos de COVID;\n",
    " - A partir do _F1-Score_, determine o valor ideal de limiar de corte (_threshold_) para que se minimize os Falsos Negativos.\n",
    " \n",
    " <br>"
   ]
  },
  {
   "cell_type": "markdown",
   "source": [],
   "metadata": {
    "collapsed": false,
    "pycharm": {
     "name": "#%% md\n"
    }
   }
  },
  {
   "cell_type": "markdown",
   "source": [
    "**E1**) Utilizando o dataset sports disponibilizado no drive, desenvolva os tópicos a seguir:\n",
    "- Limpeza e tratamento dos dados;\n",
    "- Análise Exploratória dos Dados;\n",
    "- Identificação do Modelo de Machine Learning mais adequado para a aplicação (Regressão ou classificação);\n",
    "- Execução do modelo escolhido e levantamento das métricas;"
   ],
   "metadata": {
    "collapsed": false,
    "pycharm": {
     "name": "#%% md\n"
    }
   }
  },
  {
   "cell_type": "code",
   "execution_count": 3,
   "id": "e675ebb5",
   "metadata": {
    "id": "e675ebb5",
    "pycharm": {
     "name": "#%%\n"
    }
   },
   "outputs": [
    {
     "name": "stdout",
     "output_type": "stream",
     "text": [
      "***** Bibliotecas importadas com sucesso *****\n"
     ]
    }
   ],
   "source": [
    "# Importando as bibliotecas\n",
    "import numpy as np\n",
    "import pandas as pd\n",
    "import matplotlib.pyplot as plt\n",
    "import seaborn as sns\n",
    "import plotly as px\n",
    "import os\n",
    "from pathlib import Path\n",
    "\n",
    "print(\"***** Bibliotecas importadas com sucesso *****\")"
   ]
  },
  {
   "cell_type": "code",
   "execution_count": 5,
   "outputs": [
    {
     "data": {
      "text/plain": "array([0.92208702, 0.43608301, 0.8726514 , 0.92061065, 0.00624604,\n       0.55477038, 0.41802349, 0.80642495, 0.53167197, 0.70736264,\n       0.02225838, 0.57005968, 0.10891382, 0.34222774, 0.34081214,\n       0.06501127, 0.47856207, 0.91094453, 0.42650311, 0.1825865 ,\n       0.19006632, 0.38546744, 0.04457626, 0.69437455, 0.00248837,\n       0.18708247, 0.74879622, 0.58755163, 0.40717955, 0.79631881,\n       0.34249109, 0.17558363, 0.81646282, 0.05675435, 0.6230478 ,\n       0.39796716, 0.24138571, 0.31751888, 0.62907739, 0.51258509,\n       0.2484768 , 0.16839461, 0.46108012, 0.10592916, 0.71307153,\n       0.52926693, 0.89171102, 0.72106889, 0.29622077, 0.23311429,\n       0.80738904, 0.77565729, 0.3432964 , 0.57579588, 0.71465729,\n       0.42405333, 0.45239689, 0.66237387, 0.34499786, 0.35339958,\n       0.89778645, 0.66825173, 0.25089965, 0.26656707, 0.40551892,\n       0.61244089, 0.32668524, 0.95782632, 0.2400166 , 0.77396978,\n       0.86285591, 0.49296666, 0.38840468, 0.98767722, 0.16401669,\n       0.3914399 , 0.35288979, 0.42463453, 0.18343085, 0.8880353 ,\n       0.72755069, 0.83633617, 0.01225025, 0.02095879, 0.36196233,\n       0.88519113, 0.15906063, 0.71665617, 0.69946842, 0.08221062,\n       0.29603505, 0.40042656, 0.19198993, 0.81197554, 0.46537859,\n       0.5302077 , 0.96927407, 0.78233781, 0.67237602, 0.32690894])"
     },
     "execution_count": 5,
     "metadata": {},
     "output_type": "execute_result"
    }
   ],
   "source": [
    "\n"
   ],
   "metadata": {
    "collapsed": false,
    "pycharm": {
     "name": "#%%\n"
    }
   }
  },
  {
   "cell_type": "code",
   "execution_count": null,
   "outputs": [],
   "source": [],
   "metadata": {
    "collapsed": false,
    "pycharm": {
     "name": "#%%\n"
    }
   }
  },
  {
   "cell_type": "code",
   "execution_count": null,
   "outputs": [],
   "source": [],
   "metadata": {
    "collapsed": false,
    "pycharm": {
     "name": "#%%\n"
    }
   }
  },
  {
   "cell_type": "code",
   "execution_count": null,
   "outputs": [],
   "source": [],
   "metadata": {
    "collapsed": false,
    "pycharm": {
     "name": "#%%\n"
    }
   }
  },
  {
   "cell_type": "code",
   "execution_count": null,
   "id": "8dd21ab6",
   "metadata": {
    "id": "8dd21ab6",
    "pycharm": {
     "name": "#%%\n"
    }
   },
   "outputs": [],
   "source": []
  },
  {
   "cell_type": "code",
   "execution_count": null,
   "id": "916eb3aa",
   "metadata": {
    "id": "916eb3aa",
    "pycharm": {
     "name": "#%%\n"
    }
   },
   "outputs": [],
   "source": []
  }
 ],
 "metadata": {
  "kernelspec": {
   "display_name": "Python 3 (ipykernel)",
   "language": "python",
   "name": "python3"
  },
  "language_info": {
   "codemirror_mode": {
    "name": "ipython",
    "version": 3
   },
   "file_extension": ".py",
   "mimetype": "text/x-python",
   "name": "python",
   "nbconvert_exporter": "python",
   "pygments_lexer": "ipython3",
   "version": "3.9.12"
  },
  "colab": {
   "name": "L1 - Exercícios.ipynb",
   "provenance": [],
   "collapsed_sections": []
  }
 },
 "nbformat": 4,
 "nbformat_minor": 5
}