{
 "cells": [
  {
   "cell_type": "markdown",
   "metadata": {
    "pycharm": {
     "name": "#%% md\n"
    }
   },
   "source": [
    "# 03 - Trade-Off Viés-Variância, Métricas de Avaliação e Regressão Logística"
   ]
  },
  {
   "cell_type": "markdown",
   "metadata": {
    "pycharm": {
     "name": "#%% md\n"
    }
   },
   "source": [
    "Nessa aula, iremos tratar dos seguintes conteúdos:\n",
    "- Trade-Off Viés-Variância;\n",
    "- Métricas de Avaliação;\n",
    "- Regressão Logística."
   ]
  },
  {
   "cell_type": "markdown",
   "metadata": {
    "pycharm": {
     "name": "#%% md\n"
    }
   },
   "source": [
    "<img src=\"https://miro.medium.com/max/4056/1*ohfuav_OOrDTNQRUKpBQDA.png\" width=800>"
   ]
  },
  {
   "cell_type": "markdown",
   "metadata": {
    "pycharm": {
     "name": "#%% md\n"
    }
   },
   "source": [
    "###  "
   ]
  },
  {
   "cell_type": "markdown",
   "metadata": {
    "pycharm": {
     "name": "#%% md\n"
    }
   },
   "source": [
    "## Trade-Off Viés-Variância"
   ]
  },
  {
   "cell_type": "markdown",
   "metadata": {
    "pycharm": {
     "name": "#%% md\n"
    }
   },
   "source": [
    "Veremos agora um dos conceitos mais importantes em apredizado de maquina.\n",
    "\n",
    "Muitas vezes alguns modelos têm 100% de acerto nos dados de **treino**, mas **na base de teste** a performance cai para menos de 50%.\n",
    "\n",
    "Isso pode acontecer porque o modelo fica **especialista apenas no conjunto de treino**, não conseguindo **generalizar os padrões para além dos dados vistos**.\n",
    "\n",
    "<img src=\"https://miro.medium.com/max/1125/1*_7OPgojau8hkiPUiHoGK_w.png\" width=800>\n",
    "\n",
    "O overfitting está intimamente ligado com o conceito de **viés** (bias) e **variância** (variance):\n",
    "\n",
    ">**Viés**<br>\n",
    "É a diferença entre o que o modelo prediz, e o valor correto a ser predito.<br>\n",
    "Modelos com alto viés são muito simples, de modo a **não conseguir capturar as relações que os dados de treino exibem** (underfit).<br>\n",
    "Issso faz com que ambos os erros de treino e de teste sejam altos.\n",
    "<br><br>\n",
    "Em outras palavras:<br>\n",
    "**Incapacidade de um modelo de capturar a verdadeira relação entre features e target**\n",
    "\n",
    "\n",
    "> **Variância**<br>\n",
    "Variância se refere à variabilidade das predições de um modelo.<br>\n",
    "Modelos com alta variância são muito complexos, por **aprenderem demais as relações  exibidas nos dados de treino** (overfit).<br>\n",
    "Isso faz com que os erros de treino sejam baixos, mas os erros de teste sejam altos.\n",
    "<br><br>\n",
    "Em outras palavras:<br>\n",
    "**Incapacidade de um modelo performar bem em outros datasets diferentes do usado no treinamento**. \n",
    "\n",
    "<img src=\"https://www.learnopencv.com/wp-content/uploads/2017/02/Bias-Variance-Tradeoff-In-Machine-Learning-1.png\" width=500>\n",
    "\n",
    "<img src=\"https://miro.medium.com/max/1494/1*C7ZKM93QVdpeSCGbF5TjIg.png\" width=800>\n"
   ]
  },
  {
   "cell_type": "markdown",
   "metadata": {
    "pycharm": {
     "name": "#%% md\n"
    }
   },
   "source": [
    "## Regressão Logística"
   ]
  },
  {
   "cell_type": "markdown",
   "metadata": {
    "pycharm": {
     "name": "#%% md\n"
    }
   },
   "source": [
    "Vimos que no caso mais amplo da regressão linear, temos o modelo como: <br><br>\n",
    "$$\n",
    "\\begin{equation}\n",
    "Y = \\beta_0 + \\beta_1 X_1  + \\beta_2 X_2 + ... + \\beta_n X_n = \\beta^{T}X\n",
    "\\end{equation}\n",
    "$$"
   ]
  },
  {
   "cell_type": "markdown",
   "metadata": {
    "pycharm": {
     "name": "#%% md\n"
    }
   },
   "source": [
    "Mas em regressão linear, temos como resposta do nosso modelo valores contínuos. E se ao invés disso, o nosso modelo devolve-se uma resposta binário ou classificação?<br><br>\n",
    "É exatamente isso que buscamos com a Regressão Logística, ser capaz de classificar ou distinguir se o conjunto de dados pertence a uma classe ou não, ou mesmo para o caso de múltiplas classes."
   ]
  },
  {
   "cell_type": "markdown",
   "metadata": {
    "pycharm": {
     "name": "#%% md\n"
    }
   },
   "source": [
    "Para poder fazer isso, vamos utilizar o auxílio da função logística, representada a seguir:<br><br>\n",
    "$$\n",
    "\\begin{equation}\n",
    "f(z) = \\frac{e^{z}}{1 + e^{z}}\n",
    "\\end{equation}\n",
    "$$"
   ]
  },
  {
   "cell_type": "code",
   "execution_count": 1,
   "metadata": {
    "pycharm": {
     "name": "#%%\n"
    }
   },
   "outputs": [
    {
     "name": "stdout",
     "output_type": "stream",
     "text": [
      "***** Bibliotecas importadas com sucesso *****\n"
     ]
    }
   ],
   "source": [
    "# Importando as bibliotecas\n",
    "import numpy as np\n",
    "import pandas as pd\n",
    "import matplotlib.pyplot as plt\n",
    "import seaborn as sns\n",
    "import plotly as px\n",
    "import os\n",
    "from pathlib import Path\n",
    "\n",
    "print(\"***** Bibliotecas importadas com sucesso *****\")"
   ]
  },
  {
   "cell_type": "code",
   "execution_count": 2,
   "outputs": [],
   "source": [
    "def caminho_dos_dados(projeto):\n",
    "    '''\n",
    "    Função que retorna o caminho dos dados atual acrescido do nome do projeto\n",
    "    '''\n",
    "    return str(Path(os.getcwd()).parent) + projeto"
   ],
   "metadata": {
    "collapsed": false,
    "pycharm": {
     "name": "#%%\n"
    }
   }
  },
  {
   "cell_type": "code",
   "execution_count": null,
   "metadata": {
    "pycharm": {
     "name": "#%%\n"
    }
   },
   "outputs": [],
   "source": []
  },
  {
   "cell_type": "code",
   "execution_count": null,
   "metadata": {
    "pycharm": {
     "name": "#%%\n"
    }
   },
   "outputs": [],
   "source": []
  },
  {
   "cell_type": "markdown",
   "metadata": {
    "pycharm": {
     "name": "#%% md\n"
    }
   },
   "source": [
    "Conhecendo a função logística e a definição generalizada para regressão linear, define-se a função que descreve a regressão logística como:<br><br>\n",
    "$$\n",
    "\\begin{equation}\n",
    "P(Y | x) = \\frac{e^{\\beta^{T}X}}{1 + e^{\\beta^{T}X}}\n",
    "\\end{equation}\n",
    "$$<br><br>\n",
    "Colocando uma definição mais formal seria que o objetivo da regressão logística é modelar a **probabilidade** $P(Y|x)$, onde dado x (variáveis) qual é a probabilidade dessas variáveis pertencerem a classe Y. Para o aprendizado do nosso modelo, a tarefa resumi-se em estimar os parâmetros $\\beta^{T}$."
   ]
  },
  {
   "cell_type": "markdown",
   "metadata": {
    "pycharm": {
     "name": "#%% md\n"
    }
   },
   "source": [
    "Naturalmente, $0 \\le P(Y|x) \\le 1$. Assim, por exemplo, se:\n",
    "- $P(Y|x) \\ge 0,5$: x pertence à classe 1\n",
    "- $P(Y|x) < 0,5$: x pertence à classe 0\n",
    "\n",
    "**Obs.:** este valor de 0,5 (50%) é usualmente chamado de *cutoff* ou *threshold*, e embora que o valor padrão para esse parâmetro seja de 50% na regressão logística, isso vai depender do tipo de problema que iremos tratar na modelagem!"
   ]
  },
  {
   "cell_type": "markdown",
   "metadata": {
    "pycharm": {
     "name": "#%% md\n"
    }
   },
   "source": [
    "Agora vamos pensar nos casos de estar contido ou não na classe Y, utilizando $P(Y|x)$ para determinar a probabilidade de pertencer a uma classe:<br><br>\n",
    "$$\n",
    "\\begin{equation}\n",
    "P(Y = 1  |  x) = \\frac{e^{\\beta^{T}X}}{1 + e^{\\beta^{T}X}}\n",
    "\\end{equation}\n",
    "$$<br><br>\n",
    "Agora para determinar a probabilidade de $ P(Y = 0 | x)$:<br><br>\n",
    "$$\n",
    "\\begin{equation}\n",
    "P(Y = 0  |  x) = 1 - P(Y = 1  |  x) = \\frac{1}{1 + e^{\\beta^{T}X}}\n",
    "\\end{equation}\n",
    "$$<br><br>\n",
    "Por fim, vamos analisar e determinar o limiar onde vai ocorrer a separação da classe, esse ponto será onde $ P(Y = 1 | x) = P(Y = 0 | x)$:<br><br>\n",
    "$$\n",
    "\\begin{equation}\n",
    "\\frac{e^{\\beta^{T}X}}{1 + e^{\\beta^{T}X}} = \\frac{1}{1 + e^{\\beta^{T}X}}\n",
    "\\end{equation}\n",
    "$$<br><br>\n",
    "Para a condição acima ser satisfeita, a equação $\\beta^{T}X = 0$ tem que ser verdadeira. A solução para isso é na forma de hiperplanos, mas o mais importante aqui é se a superfície de separação linear!"
   ]
  },
  {
   "cell_type": "code",
   "execution_count": null,
   "metadata": {
    "pycharm": {
     "name": "#%%\n"
    }
   },
   "outputs": [],
   "source": []
  },
  {
   "cell_type": "code",
   "execution_count": null,
   "metadata": {
    "pycharm": {
     "name": "#%%\n"
    }
   },
   "outputs": [],
   "source": []
  },
  {
   "cell_type": "code",
   "execution_count": null,
   "metadata": {
    "pycharm": {
     "name": "#%%\n"
    }
   },
   "outputs": [],
   "source": []
  },
  {
   "cell_type": "markdown",
   "metadata": {
    "pycharm": {
     "name": "#%% md\n"
    }
   },
   "source": [
    "### Exemplo"
   ]
  },
  {
   "cell_type": "markdown",
   "metadata": {
    "pycharm": {
     "name": "#%% md\n"
    }
   },
   "source": [
    "No exemplo prático, iremos utilizar um dataset de marketing (propagandas/advertising), que está disponível no <a href=\"https://www.kaggle.com/fayomi/advertising\">Kaggle</a>. Este é um dataset artificial e didático, com os dados bem separáveis, o que é ótimo para ilustração!<br>\n",
    "\n",
    "Visite o Kaggle e procure por \"advertising\" para datasets relacionados reais e ainda mais interessantes\n",
    "\n",
    "A base que utilizaremos contém as seguintes colunas:\n",
    "\n",
    "* **'Daily Time Spent on Site':** tempo que o cliente ficou no site (em minutos);\n",
    "* **'Age':** idade do cliente (em anos);\n",
    "* **'Area Income':** média salarial (por ano) da região geográfica do cliente;\n",
    "* **'Daily Internet Usage':** tempo médio (em minutos) que o cliente fica na internet;\n",
    "* **'Ad Topic Line':** título do anúncio;\n",
    "* **'City':** cidade do cliente;\n",
    "* **'Male':** dummy indicando se o cliente é do sexo masculino (1) ou não (0);\n",
    "* **'Country':** país do cliente;\n",
    "* **'Timestamp':** marcação de tempo em que o cliente clickou no anúncio OU fechou a página\n",
    "* **'Clicked on Ad':** dummy indicando se o cliente clickou no anúncio (1) ou não (0).\n",
    "\n",
    "Nosso objetivo é criar um modelo que possa prever se um determinado usuário clickará em um anúncio online ou não, com base em suas características pessoais/comportamentais, bem como informações relativas ao anúncio.\n",
    "\n",
    "Tomamos como variáveis independentes (preditores/features) as primeiras 9 colunas, enquanto nossa variável dependente (target) é a última coluna (\"Clicked on Ad\").\n",
    "\n",
    "Ou seja, nosso modelo deve ser capaz de dizer se um usuário com um conjunto particular das 9 features clickará no anúncio ou não."
   ]
  },
  {
   "cell_type": "code",
   "execution_count": null,
   "metadata": {
    "pycharm": {
     "name": "#%%\n"
    }
   },
   "outputs": [],
   "source": []
  },
  {
   "cell_type": "code",
   "execution_count": null,
   "metadata": {
    "pycharm": {
     "name": "#%%\n"
    }
   },
   "outputs": [],
   "source": []
  },
  {
   "cell_type": "code",
   "execution_count": null,
   "metadata": {
    "pycharm": {
     "name": "#%%\n"
    }
   },
   "outputs": [],
   "source": []
  },
  {
   "cell_type": "markdown",
   "metadata": {
    "pycharm": {
     "name": "#%% md\n"
    }
   },
   "source": [
    "## "
   ]
  },
  {
   "cell_type": "markdown",
   "metadata": {
    "pycharm": {
     "name": "#%% md\n"
    }
   },
   "source": [
    "## Métricas de Avaliação"
   ]
  },
  {
   "cell_type": "markdown",
   "metadata": {
    "pycharm": {
     "name": "#%% md\n"
    }
   },
   "source": [
    "Um importante processo durante a modelagem e termos alguma forma de avalairmos a qaulidade do que modelamos, e para isso utlizamos de **métricas de avaliação**.\n",
    "\n",
    "No caso de problemas de classificação, existem **métricas específicas**, e também um importante conceito chamado de **Matriz de Confusão**.\n",
    "\n",
    "A **matriz de confusão** leva em consideração as **classes preditas** e as **classes verdadeiras** da base de **teste**, e contabiliza a performance do modelo:\n",
    "\n",
    "<img src=https://diegonogare.net/wp-content/uploads/2020/04/matrizConfusao-600x381.png height=\"400\" width=\"400\">\n",
    "\n",
    "No Sklearn, a notação muda um pouco:\n",
    "\n",
    "<img src=\"https://static.packt-cdn.com/products/9781838555078/graphics/C13314_06_05.jpg\" width=400>\n",
    "\n",
    "Note que a diagonal principal são as observações que o modelo acertou! Temos:\n",
    "\n",
    "- Verdadeiros Positivos (VP): classificação correta da classe positivo;\n",
    "- Verdadeiros Negativos (VN): classificação correta da classe negativo;\n",
    "- Falsos Positivos (FP, erro tipo I): correto: negativo. Previsto: positivo.\n",
    "- Falsos Negativos (FN, erro tipo II): correto: positivo. Previsto: negativo.\n",
    "\n",
    "Um jeito fácil de lembrar os tipos de erros:\n",
    "\n",
    "\n",
    "<img src=\"https://i.pinimg.com/originals/f6/9b/11/f69b111014ef466fe541a393346d2c3a.jpg\" height=\"400\" width=\"400\">\n",
    "\n",
    "\n",
    "Visto isso, as seguintes métricas numéricas de avaliação são bastante comuns na avaliação de modelos de classificação:\n",
    "\n",
    "- Acurácia (Accuracy): porcentagem de classificações CORRETAS do modelo;\n",
    "\n",
    "- Precisão (Precision): das respostas retornadas, quantas são relevantes? -- é a razão entre verdadeiros positivos e o  número de **preditos positivos**, isto é, positivos quanto à **label predita pelo modelo**.\n",
    "\n",
    "- Revocação/Sensibilidade (Recall/Sensitivity): das respostas relevantes, quantas são retornadas? -- é a razão entre verdadeiros positivos e o  número de **verdadeiramente positivos**, isto é, positivos quanto à **label real**.\n",
    "\n",
    "- F1-Score: média harmônica de precision e recall.\n",
    "\n",
    "<img src=\"https://upload.wikimedia.org/wikipedia/commons/thumb/2/26/Precisionrecall.svg/1200px-Precisionrecall.svg.png\" width=450>\n",
    "\n",
    "Devido ao <a href=\"https://medium.com/opex-analytics/why-you-need-to-understand-the-trade-off-between-precision-and-recall-525a33919942\">tradeoff entre precision e recall</a>, a métrica a ser otimizada é o F1! \n",
    "\n",
    "\n",
    "<img src=\"https://miro.medium.com/max/1080/1*t1vf-ofJrJqtmam0KSn3EQ.png\" height=\"400\" width=\"400\">\n",
    "\n",
    "Quando começarmos a modelar com modelos de classificação daremos uma olhada mais a fundo nas métricas!"
   ]
  },
  {
   "cell_type": "markdown",
   "metadata": {
    "pycharm": {
     "name": "#%% md\n"
    }
   },
   "source": [
    "## "
   ]
  },
  {
   "cell_type": "code",
   "execution_count": null,
   "metadata": {
    "pycharm": {
     "name": "#%%\n"
    }
   },
   "outputs": [],
   "source": []
  },
  {
   "cell_type": "code",
   "execution_count": null,
   "metadata": {
    "pycharm": {
     "name": "#%%\n"
    }
   },
   "outputs": [],
   "source": []
  },
  {
   "cell_type": "code",
   "execution_count": null,
   "metadata": {
    "pycharm": {
     "name": "#%%\n"
    }
   },
   "outputs": [],
   "source": []
  },
  {
   "cell_type": "markdown",
   "metadata": {
    "pycharm": {
     "name": "#%% md\n"
    }
   },
   "source": [
    "Acurácia: \n",
    "$$\n",
    "\\begin{equation}\n",
    "Acurácia = \\frac{TP + TN}{TP + TN + FP + FN}\n",
    "\\end{equation}\n",
    "$$"
   ]
  },
  {
   "cell_type": "code",
   "execution_count": null,
   "metadata": {
    "pycharm": {
     "name": "#%%\n"
    }
   },
   "outputs": [],
   "source": []
  },
  {
   "cell_type": "code",
   "execution_count": null,
   "metadata": {
    "pycharm": {
     "name": "#%%\n"
    }
   },
   "outputs": [],
   "source": []
  },
  {
   "cell_type": "code",
   "execution_count": null,
   "metadata": {
    "pycharm": {
     "name": "#%%\n"
    }
   },
   "outputs": [],
   "source": []
  },
  {
   "cell_type": "markdown",
   "metadata": {
    "pycharm": {
     "name": "#%% md\n"
    }
   },
   "source": [
    "Precision: \n",
    "$$\n",
    "\\begin{equation}\n",
    "Precision = \\frac{TP}{TP + FP}\n",
    "\\end{equation}\n",
    "$$"
   ]
  },
  {
   "cell_type": "code",
   "execution_count": null,
   "metadata": {
    "pycharm": {
     "name": "#%%\n"
    }
   },
   "outputs": [],
   "source": []
  },
  {
   "cell_type": "code",
   "execution_count": null,
   "metadata": {
    "pycharm": {
     "name": "#%%\n"
    }
   },
   "outputs": [],
   "source": []
  },
  {
   "cell_type": "code",
   "execution_count": null,
   "metadata": {
    "pycharm": {
     "name": "#%%\n"
    }
   },
   "outputs": [],
   "source": []
  },
  {
   "cell_type": "markdown",
   "metadata": {
    "pycharm": {
     "name": "#%% md\n"
    }
   },
   "source": [
    "Recall: \n",
    "$$\n",
    "\\begin{equation}\n",
    "Recall = \\frac{TP}{TP+FN}\n",
    "\\end{equation}\n",
    "$$"
   ]
  },
  {
   "cell_type": "code",
   "execution_count": null,
   "metadata": {
    "pycharm": {
     "name": "#%%\n"
    }
   },
   "outputs": [],
   "source": []
  },
  {
   "cell_type": "code",
   "execution_count": null,
   "metadata": {
    "pycharm": {
     "name": "#%%\n"
    }
   },
   "outputs": [],
   "source": []
  },
  {
   "cell_type": "code",
   "execution_count": null,
   "metadata": {
    "pycharm": {
     "name": "#%%\n"
    }
   },
   "outputs": [],
   "source": []
  },
  {
   "cell_type": "markdown",
   "metadata": {
    "pycharm": {
     "name": "#%% md\n"
    }
   },
   "source": [
    "F1-Score: \n",
    "$$\n",
    "\\begin{equation}\n",
    "F1 = 2*\\frac{precision * recall}{precision + recall}\n",
    "\\end{equation}\n",
    "$$"
   ]
  },
  {
   "cell_type": "code",
   "execution_count": null,
   "metadata": {
    "pycharm": {
     "name": "#%%\n"
    }
   },
   "outputs": [],
   "source": []
  },
  {
   "cell_type": "code",
   "execution_count": null,
   "metadata": {
    "pycharm": {
     "name": "#%%\n"
    }
   },
   "outputs": [],
   "source": []
  },
  {
   "cell_type": "code",
   "execution_count": null,
   "metadata": {
    "pycharm": {
     "name": "#%%\n"
    }
   },
   "outputs": [],
   "source": []
  },
  {
   "cell_type": "markdown",
   "metadata": {
    "pycharm": {
     "name": "#%% md\n"
    }
   },
   "source": [
    "## "
   ]
  },
  {
   "cell_type": "markdown",
   "metadata": {
    "pycharm": {
     "name": "#%% md\n"
    }
   },
   "source": [
    "## Exercícios"
   ]
  },
  {
   "cell_type": "markdown",
   "metadata": {
    "pycharm": {
     "name": "#%% md\n"
    }
   },
   "source": [
    "Serão 3 datasets para praticar os conceitos de Regressão Logística. Usem de tudo que já aprendemos EDA, Limpeza e Preparação dos Dados. A descrição dos Datasets estão a seguir:"
   ]
  },
  {
   "cell_type": "markdown",
   "metadata": {
    "pycharm": {
     "name": "#%% md\n"
    }
   },
   "source": [
    "**1)** [COVID](https://www.kaggle.com/tanmoyx/covid19-patient-precondition-dataset?select=covid.csv): Esses dados estão no dataset *COVID.csv* e nele encontramos alguns dados sobre os casos de Covid no México, onde têm os sintomas e caractéristicas dos pacientes além do resultado do teste para Covid."
   ]
  },
  {
   "cell_type": "markdown",
   "metadata": {
    "pycharm": {
     "name": "#%% md\n"
    }
   },
   "source": [
    "A descrição das variáveis estão indicadas abaixo:<br>\n",
    " - **id**: Identificação do paciente<br>\n",
    " - **sex**: Sexo do Paciente (0 - Homem / 1 - Mulher) <br>\n",
    " - **patient_type**: Se o paciente foi dispensado para casa (1) ou se foi internado (0) <br>\n",
    " - **intubed**: Seo paciente foi intubado ou não<br>\n",
    " - **pneumonia**: Se o paciente apresentou pneumonia ou não<br>\n",
    " - **age**: Idade do Paciente<br>\n",
    " - **pregnancy**: Se a paciente estava grávida ou não (para pacientes mulheres)<br>\n",
    " - **diabetes**: Se o paciente tem diabetes ou não<br>\n",
    " - **copd**: Se opaciente tem COPD ou não<br>\n",
    " - **asthma**: Se o paciente tem Asma ou não<br>\n",
    " - **inmsupr**: Se o paciente apresentou Imunosupressão ou não<br>\n",
    " - **hypertension**: Se o paciente tem hipertensão ou não<br>\n",
    " - **ohter_disease**: Se o paciente tem outras doenças ou não<br>\n",
    " - **cardiovascular**: Se o paciente tem doenças cardiácas ou não<br>\n",
    " - **obesity**: Se o paciente tem obesidade ou não<br>\n",
    " - **renal_chronic**: Se o paciente tem problemas renais ou não<br>\n",
    " - **tobacco**: Se o paciente é fumante ou não<br>\n",
    " - **contact_other_covid**: Se o paciente teve contato com outras pessoas diagnosticadas com covid<br>\n",
    " - **icu**: Se o paciente precisou ser internado na UTI<br>\n",
    " - **covid_res**: Se o resultado do teste foi Positivo ou Negativo<br>"
   ]
  },
  {
   "cell_type": "code",
   "execution_count": null,
   "metadata": {
    "pycharm": {
     "name": "#%%\n"
    }
   },
   "outputs": [],
   "source": []
  },
  {
   "cell_type": "code",
   "execution_count": null,
   "metadata": {
    "pycharm": {
     "name": "#%%\n"
    }
   },
   "outputs": [],
   "source": []
  },
  {
   "cell_type": "code",
   "execution_count": null,
   "metadata": {
    "pycharm": {
     "name": "#%%\n"
    }
   },
   "outputs": [],
   "source": []
  },
  {
   "cell_type": "markdown",
   "metadata": {
    "pycharm": {
     "name": "#%% md\n"
    }
   },
   "source": [
    "## "
   ]
  },
  {
   "cell_type": "markdown",
   "metadata": {
    "pycharm": {
     "name": "#%% md\n"
    }
   },
   "source": [
    "**2)** [Admissão em Faculdades para Estudantes Indianos](https://www.kaggle.com/mohansacharya/graduate-admissions): Esses dados estão no dataset *Admission_Predict.csv* e nele encontramos alguns dados sobre estudantes indianos que tem interesse em ingressar na Universidade. As variáveis que estão disponíveis são:\n",
    "\n",
    "- GRE Scores\n",
    "- TOEFL Scores\n",
    "- University Rating\n",
    "- SOP: Statement of Purpose \n",
    "- LOR: Letter of Recommendation Strength\n",
    "- CGPA: Undergraduate GPA\n",
    "- Research Experience\n",
    "- Chance of Admit\n",
    "\n",
    "**DICA:** Vocês irão perceber que o valor da target 'Chance of Admit ' não vai estar em binário, para transformar os dados vocês podem utilizar a função [np.where](https://numpy.org/doc/stable/reference/generated/numpy.where.html) com um threshold de 0.5"
   ]
  },
  {
   "cell_type": "code",
   "execution_count": null,
   "metadata": {
    "pycharm": {
     "name": "#%%\n"
    }
   },
   "outputs": [],
   "source": []
  },
  {
   "cell_type": "code",
   "execution_count": null,
   "metadata": {
    "pycharm": {
     "name": "#%%\n"
    }
   },
   "outputs": [],
   "source": []
  },
  {
   "cell_type": "code",
   "execution_count": null,
   "metadata": {
    "pycharm": {
     "name": "#%%\n"
    }
   },
   "outputs": [],
   "source": []
  },
  {
   "cell_type": "markdown",
   "metadata": {
    "pycharm": {
     "name": "#%% md\n"
    }
   },
   "source": [
    "## "
   ]
  },
  {
   "cell_type": "markdown",
   "metadata": {
    "pycharm": {
     "name": "#%% md\n"
    }
   },
   "source": [
    "**3)** Dataset Iris: Dataset bem conhecido a respeito de 3 tipos da Iris, onde no dataset *Iris.csv* temos alguns dados sobre caractéristicas da flor e a marcação da *species*"
   ]
  },
  {
   "cell_type": "code",
   "execution_count": null,
   "metadata": {
    "pycharm": {
     "name": "#%%\n"
    }
   },
   "outputs": [],
   "source": []
  },
  {
   "cell_type": "code",
   "execution_count": null,
   "metadata": {
    "pycharm": {
     "name": "#%%\n"
    }
   },
   "outputs": [],
   "source": []
  },
  {
   "cell_type": "code",
   "execution_count": null,
   "metadata": {
    "pycharm": {
     "name": "#%%\n"
    }
   },
   "outputs": [],
   "source": []
  },
  {
   "cell_type": "markdown",
   "metadata": {
    "pycharm": {
     "name": "#%% md\n"
    }
   },
   "source": [
    "## "
   ]
  }
 ],
 "metadata": {
  "kernelspec": {
   "display_name": "Python 3 (ipykernel)",
   "language": "python",
   "name": "python3"
  },
  "language_info": {
   "codemirror_mode": {
    "name": "ipython",
    "version": 3
   },
   "file_extension": ".py",
   "mimetype": "text/x-python",
   "name": "python",
   "nbconvert_exporter": "python",
   "pygments_lexer": "ipython3",
   "version": "3.9.12"
  }
 },
 "nbformat": 4,
 "nbformat_minor": 2
}