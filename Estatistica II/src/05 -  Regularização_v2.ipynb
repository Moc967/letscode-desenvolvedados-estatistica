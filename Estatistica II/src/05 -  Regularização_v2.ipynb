{
 "cells": [
  {
   "cell_type": "markdown",
   "metadata": {
    "pycharm": {
     "name": "#%% md\n"
    }
   },
   "source": [
    "# 07 - Regularizações"
   ]
  },
  {
   "cell_type": "markdown",
   "metadata": {
    "pycharm": {
     "name": "#%% md\n"
    }
   },
   "source": [
    "Nessa aula, iremos tratar dos seguintes conteúdos:\n",
    "- Função de Custo e Regularização;\n",
    "- Ridge;\n",
    "- Lasso;\n",
    "- Elastic-Net."
   ]
  },
  {
   "cell_type": "markdown",
   "metadata": {
    "pycharm": {
     "name": "#%% md\n"
    }
   },
   "source": [
    "###  "
   ]
  },
  {
   "cell_type": "markdown",
   "metadata": {
    "pycharm": {
     "name": "#%% md\n"
    }
   },
   "source": [
    "##  Regularizações\n",
    "\n",
    "<br>\n",
    "\n",
    "As __regularizações__ vão ser uma importante ferramenta para auxiliar no ajuste de modelos de Regressão Linear. Quando modela-se uma Regressão Linear Múltipla, o objetivo é calcular os coeficientes que determinam a equação abaixo:\n",
    "\n",
    "<br>\n",
    "\n",
    "$$\\ Y_j=\\beta_0 + \\sum_{i=1}^{n} \\beta_i X_{ij} = \\beta_0 + \\beta X $$\n",
    "\n",
    "<br>\n",
    "\n",
    "Para se determinar os valores de todos os parâmetros $\\beta$, o processo de modelagem envolve achar os parâmetros que minimizam a chamada __função de custo__, função esta que avalia o custo (ou seja o erro empregado) ao estimar o valor de $Y$, que para o caso das regressões a função de custo é dada pela __soma residual dos quadrados__, conforme a seguir:\n",
    "\n",
    "<br>\n",
    "\n",
    "$$\n",
    "\\Theta = \\sum_{i = 1}^{n}[y_i - (\\beta_0 + \\beta X)]^2\n",
    "$$\n",
    "\n",
    "<br>\n",
    "\n",
    "Mas durante o processo iterativo para o cálculo dos parâmetros, um problema que pode surgir é o caso do _overfitting_, como discutido em tópicos anterior. Ao invés do modelo aprender a __generalizar os resultados__, ele apenas passa a __memorizar__ as respostas dos dados fornecidos no treinamento, prejudicando assim o real poder de predição da Regressão Linear e qualquer outro modelo de _Machine Learning_.\n",
    "\n",
    "A forma utilizada para diminuir esse efeito nas regressões, seria justamente a __regularização__, onde de acordo com o tipo de regularização será adicionado a função de custo um termo conhecido como __penalização__ proporporcional aos coeficientes $\\beta$. Dessa forma, ao minimizar a função de custo, também será minimizado os parâmetros $\\beta$.\n",
    "\n",
    "Nos tópicos a seguir, serão apresentados os principais métodos de regularização para as regressões, sendo eles o __Ridge__, __Lasso__ e __Elastic-Net__.\n",
    "\n",
    "<br><br>\n",
    "\n",
    "###  Ridge (L2)\n",
    "\n",
    "<br>\n",
    "\n",
    "O método Ridge ou penalização L2, consiste em adicionar um termo quadrático dos parâmetros na função de custo:\n",
    "\n",
    "<br>\n",
    "\n",
    "$$\n",
    "\\Theta_{Ridge} = \\sum_{i = 1}^{n}[y_i - (\\beta_0 + \\beta X)]^2 + \\alpha\\sum_{j = 1}^{p}\\beta^{2}_{j} \n",
    "$$\n",
    "\n",
    "<br>\n",
    "\n",
    "Esse tipo de regularização é mais interessante de se usar quando __todas as variáveis atributos dos dados são importantes__, mas esperasse que o modelo generalize mais. O parâmetro $\\alpha$ é justamente o que define a complexidade do modelo, quanto maior o $\\alpha$, mais simples o modelo, ou seja, menor a viriância e maiores chances de ocorrer um _underfitting_.\n",
    "\n",
    "O processo de treinamento e geração de novas predições funciona de forma análoga ao que acontece para a função `LinearRegression`, no caso para implementar o [_Ridge_](https://scikit-learn.org/stable/modules/generated/sklearn.linear_model.Ridge.html) basta carregar a função específica para ele:\n",
    "\n",
    "<br>\n",
    "\n",
    "```python\n",
    "# Carregando a função para o Ridge\n",
    "from sklearn.linear_model import Ridge\n",
    "\n",
    "# Instanciar o modelo\n",
    "model = Ridge(alpha = 1.0) # Parâmetro de Ajuste do Ridge\n",
    "```\n",
    "\n",
    "<br><br>\n",
    "\n",
    "###  Lasso (L1)\n",
    "\n",
    "<br>\n",
    "\n",
    "O método Lasso ou penalização L1, consiste em adicionar o módulo dos parâmetros na função de custo, ao invés do quadrado no Ridge:\n",
    "\n",
    "$$\n",
    "\\Theta_{Lasso} = \\sum_{i = 1}^{n}[y_i - (\\beta_0 + \\beta X)]^2 + \\alpha\\sum_{j = 1}^{p}|\\beta_{j}|\n",
    "$$\n",
    "\n",
    "O Lasso tem uma aplicação adicional bem interessante pois, no processo interativo de minimizar a função de custo, alguns parâmetros $\\beta$ serão __zerados__. Ou seja, o método pode ser utilizado como __uma seleção de atributos__, onde serão zerados os atributos menos relevantes para a modelagem. No caso do Lasso, se tivermos $\\alpha = 0$ cai-se no caso clássico de regressão linear e para os casos $\\alpha > 0$, quanto maior o valor de lambda, mais parâmetros serão zerados. \n",
    "\n",
    "De forma análoga ao que acontece no _Ridge_, no caso para implementar o [__Lasso__](https://scikit-learn.org/stable/modules/generated/sklearn.linear_model.Lasso.html?highlight=lasso#sklearn.linear_model.Lasso) basta carregar a função específica para ele:\n",
    "\n",
    "<br>\n",
    "\n",
    "```python\n",
    "# Carregando a função para o Lasso\n",
    "from sklearn.linear_model import Lasso\n",
    "\n",
    "# Instanciar o modelo\n",
    "model = Lasso(alpha = 1.0) # Parâmetro de Ajuste do Lasso\n",
    "```\n",
    "\n",
    "<br><br>\n",
    "\n",
    "###  Elastic-Net (L1 + L2)\n",
    "\n",
    "<br>\n",
    "\n",
    "O __Elastic-Net__ é um caso particular bem interessante pois ele combina ambos os efeitos de penalização L1 e L2, conforme descrito pela fórmula a seguir:\n",
    "\n",
    "<br>\n",
    "\n",
    "$$\n",
    "\\Theta_{EN} = \\sum_{i = 1}^{n}[y_i - (\\beta_0 + \\beta X)]^2 + \\alpha_{1}\\sum_{j = 1}^{p}|\\beta_{j}| + \\alpha_{2}\\sum_{j = 1}^{p}\\beta_{j}^{2}\n",
    "$$\n",
    "\n",
    "<br>\n",
    "\n",
    "Ou seja, o _Elastic-Net_ é interessante pois combina o poder de penalização efetiva do _Ridge_ com as características de seleção de atributos do _Lasso_. Para implementar o [_Elastic-Net_](https://scikit-learn.org/stable/modules/generated/sklearn.linear_model.ElasticNet.html) basta carregar a sua função específica:\n",
    "\n",
    "<br>\n",
    "\n",
    "```python\n",
    "# Carregando a função para o ElasticNet\n",
    "from sklearn.linear_model import ElasticNet\n",
    "\n",
    "# Instanciar o modelo\n",
    "model = ElasticNet(alpha = 1.0) # Parâmetro de Ajuste do ElasticNet\n",
    "```\n",
    "\n",
    "<br><br>"
   ]
  },
  {
   "cell_type": "markdown",
   "metadata": {
    "pycharm": {
     "name": "#%% md\n"
    }
   },
   "source": [
    "## "
   ]
  },
  {
   "cell_type": "markdown",
   "metadata": {
    "pycharm": {
     "name": "#%% md\n"
    }
   },
   "source": [
    "__Exemplo:__ Vamos retomar o exercício com o _dataset_ `Car_Prices.csv` e avaliar os dados com diferentes modelos agora:"
   ]
  },
  {
   "cell_type": "code",
   "execution_count": 1,
   "metadata": {
    "pycharm": {
     "name": "#%%\n"
    }
   },
   "outputs": [],
   "source": [
    "# Import das Libs necessárias\n",
    "import pandas as pd\n",
    "import numpy as np\n",
    "import matplotlib.pyplot as plt\n",
    "import seaborn as sns\n",
    "from sklearn.model_selection import train_test_split\n",
    "from sklearn.preprocessing import StandardScaler\n",
    "from sklearn.linear_model import LinearRegression, Ridge, Lasso, ElasticNet\n",
    "from sklearn.metrics import r2_score, mean_squared_error, mean_absolute_error"
   ]
  },
  {
   "cell_type": "code",
   "execution_count": 2,
   "metadata": {
    "pycharm": {
     "name": "#%%\n"
    }
   },
   "outputs": [
    {
     "data": {
      "text/html": [
       "<div>\n",
       "<style scoped>\n",
       "    .dataframe tbody tr th:only-of-type {\n",
       "        vertical-align: middle;\n",
       "    }\n",
       "\n",
       "    .dataframe tbody tr th {\n",
       "        vertical-align: top;\n",
       "    }\n",
       "\n",
       "    .dataframe thead th {\n",
       "        text-align: right;\n",
       "    }\n",
       "</style>\n",
       "<table border=\"1\" class=\"dataframe\">\n",
       "  <thead>\n",
       "    <tr style=\"text-align: right;\">\n",
       "      <th></th>\n",
       "      <th>symboling</th>\n",
       "      <th>CarName</th>\n",
       "      <th>fueltype</th>\n",
       "      <th>aspiration</th>\n",
       "      <th>doornumber</th>\n",
       "      <th>carbody</th>\n",
       "      <th>wheelbase</th>\n",
       "      <th>carlength</th>\n",
       "      <th>carwidth</th>\n",
       "      <th>carheight</th>\n",
       "      <th>...</th>\n",
       "      <th>cylindernumber</th>\n",
       "      <th>enginesize</th>\n",
       "      <th>boreratio</th>\n",
       "      <th>stroke</th>\n",
       "      <th>compressionratio</th>\n",
       "      <th>horsepower</th>\n",
       "      <th>peakrpm</th>\n",
       "      <th>citympg</th>\n",
       "      <th>highwaympg</th>\n",
       "      <th>price</th>\n",
       "    </tr>\n",
       "    <tr>\n",
       "      <th>car_ID</th>\n",
       "      <th></th>\n",
       "      <th></th>\n",
       "      <th></th>\n",
       "      <th></th>\n",
       "      <th></th>\n",
       "      <th></th>\n",
       "      <th></th>\n",
       "      <th></th>\n",
       "      <th></th>\n",
       "      <th></th>\n",
       "      <th></th>\n",
       "      <th></th>\n",
       "      <th></th>\n",
       "      <th></th>\n",
       "      <th></th>\n",
       "      <th></th>\n",
       "      <th></th>\n",
       "      <th></th>\n",
       "      <th></th>\n",
       "      <th></th>\n",
       "      <th></th>\n",
       "    </tr>\n",
       "  </thead>\n",
       "  <tbody>\n",
       "    <tr>\n",
       "      <th>1</th>\n",
       "      <td>3</td>\n",
       "      <td>alfa-romero giulia</td>\n",
       "      <td>gas</td>\n",
       "      <td>std</td>\n",
       "      <td>two</td>\n",
       "      <td>convertible</td>\n",
       "      <td>88.6</td>\n",
       "      <td>168.8</td>\n",
       "      <td>64.1</td>\n",
       "      <td>48.8</td>\n",
       "      <td>...</td>\n",
       "      <td>four</td>\n",
       "      <td>130</td>\n",
       "      <td>3.47</td>\n",
       "      <td>2.68</td>\n",
       "      <td>9.0</td>\n",
       "      <td>111</td>\n",
       "      <td>5000</td>\n",
       "      <td>21</td>\n",
       "      <td>27</td>\n",
       "      <td>13495.0</td>\n",
       "    </tr>\n",
       "    <tr>\n",
       "      <th>2</th>\n",
       "      <td>3</td>\n",
       "      <td>alfa-romero stelvio</td>\n",
       "      <td>gas</td>\n",
       "      <td>std</td>\n",
       "      <td>two</td>\n",
       "      <td>convertible</td>\n",
       "      <td>88.6</td>\n",
       "      <td>168.8</td>\n",
       "      <td>64.1</td>\n",
       "      <td>48.8</td>\n",
       "      <td>...</td>\n",
       "      <td>four</td>\n",
       "      <td>130</td>\n",
       "      <td>3.47</td>\n",
       "      <td>2.68</td>\n",
       "      <td>9.0</td>\n",
       "      <td>111</td>\n",
       "      <td>5000</td>\n",
       "      <td>21</td>\n",
       "      <td>27</td>\n",
       "      <td>16500.0</td>\n",
       "    </tr>\n",
       "    <tr>\n",
       "      <th>3</th>\n",
       "      <td>1</td>\n",
       "      <td>alfa-romero Quadrifoglio</td>\n",
       "      <td>gas</td>\n",
       "      <td>std</td>\n",
       "      <td>two</td>\n",
       "      <td>hatchback</td>\n",
       "      <td>94.5</td>\n",
       "      <td>171.2</td>\n",
       "      <td>65.5</td>\n",
       "      <td>52.4</td>\n",
       "      <td>...</td>\n",
       "      <td>six</td>\n",
       "      <td>152</td>\n",
       "      <td>2.68</td>\n",
       "      <td>3.47</td>\n",
       "      <td>9.0</td>\n",
       "      <td>154</td>\n",
       "      <td>5000</td>\n",
       "      <td>19</td>\n",
       "      <td>26</td>\n",
       "      <td>16500.0</td>\n",
       "    </tr>\n",
       "    <tr>\n",
       "      <th>4</th>\n",
       "      <td>2</td>\n",
       "      <td>audi 100 ls</td>\n",
       "      <td>gas</td>\n",
       "      <td>std</td>\n",
       "      <td>four</td>\n",
       "      <td>sedan</td>\n",
       "      <td>99.8</td>\n",
       "      <td>176.6</td>\n",
       "      <td>66.2</td>\n",
       "      <td>54.3</td>\n",
       "      <td>...</td>\n",
       "      <td>four</td>\n",
       "      <td>109</td>\n",
       "      <td>3.19</td>\n",
       "      <td>3.40</td>\n",
       "      <td>10.0</td>\n",
       "      <td>102</td>\n",
       "      <td>5500</td>\n",
       "      <td>24</td>\n",
       "      <td>30</td>\n",
       "      <td>13950.0</td>\n",
       "    </tr>\n",
       "    <tr>\n",
       "      <th>5</th>\n",
       "      <td>2</td>\n",
       "      <td>audi 100ls</td>\n",
       "      <td>gas</td>\n",
       "      <td>std</td>\n",
       "      <td>four</td>\n",
       "      <td>sedan</td>\n",
       "      <td>99.4</td>\n",
       "      <td>176.6</td>\n",
       "      <td>66.4</td>\n",
       "      <td>54.3</td>\n",
       "      <td>...</td>\n",
       "      <td>five</td>\n",
       "      <td>136</td>\n",
       "      <td>3.19</td>\n",
       "      <td>3.40</td>\n",
       "      <td>8.0</td>\n",
       "      <td>115</td>\n",
       "      <td>5500</td>\n",
       "      <td>18</td>\n",
       "      <td>22</td>\n",
       "      <td>17450.0</td>\n",
       "    </tr>\n",
       "  </tbody>\n",
       "</table>\n",
       "<p>5 rows × 21 columns</p>\n",
       "</div>"
      ],
      "text/plain": [
       "        symboling                   CarName fueltype aspiration doornumber  \\\n",
       "car_ID                                                                       \n",
       "1               3        alfa-romero giulia      gas        std        two   \n",
       "2               3       alfa-romero stelvio      gas        std        two   \n",
       "3               1  alfa-romero Quadrifoglio      gas        std        two   \n",
       "4               2               audi 100 ls      gas        std       four   \n",
       "5               2                audi 100ls      gas        std       four   \n",
       "\n",
       "            carbody  wheelbase  carlength  carwidth  carheight  ...  \\\n",
       "car_ID                                                          ...   \n",
       "1       convertible       88.6      168.8      64.1       48.8  ...   \n",
       "2       convertible       88.6      168.8      64.1       48.8  ...   \n",
       "3         hatchback       94.5      171.2      65.5       52.4  ...   \n",
       "4             sedan       99.8      176.6      66.2       54.3  ...   \n",
       "5             sedan       99.4      176.6      66.4       54.3  ...   \n",
       "\n",
       "        cylindernumber enginesize  boreratio  stroke  compressionratio  \\\n",
       "car_ID                                                                   \n",
       "1                 four        130       3.47    2.68               9.0   \n",
       "2                 four        130       3.47    2.68               9.0   \n",
       "3                  six        152       2.68    3.47               9.0   \n",
       "4                 four        109       3.19    3.40              10.0   \n",
       "5                 five        136       3.19    3.40               8.0   \n",
       "\n",
       "        horsepower  peakrpm  citympg  highwaympg    price  \n",
       "car_ID                                                     \n",
       "1              111     5000       21          27  13495.0  \n",
       "2              111     5000       21          27  16500.0  \n",
       "3              154     5000       19          26  16500.0  \n",
       "4              102     5500       24          30  13950.0  \n",
       "5              115     5500       18          22  17450.0  \n",
       "\n",
       "[5 rows x 21 columns]"
      ]
     },
     "execution_count": 2,
     "metadata": {},
     "output_type": "execute_result"
    }
   ],
   "source": [
    "#Carregando o CSV\n",
    "cars = pd.read_csv('Car_Prices.csv', index_col = 0)\n",
    "\n",
    "# Mostrar os primeiras linhas\n",
    "cars.head()"
   ]
  },
  {
   "cell_type": "code",
   "execution_count": 3,
   "metadata": {
    "pycharm": {
     "name": "#%%\n"
    }
   },
   "outputs": [],
   "source": [
    "# aplicar o get_dummies\n",
    "cars_dummies = pd.get_dummies(cars,\n",
    "                              prefix_sep = '_',\n",
    "                              columns = ['fueltype', \n",
    "                                         'aspiration', \n",
    "                                         'doornumber', \n",
    "                                         'carbody', \n",
    "                                         'cylindernumber'],\n",
    "                              drop_first = True)"
   ]
  },
  {
   "cell_type": "code",
   "execution_count": 4,
   "metadata": {
    "pycharm": {
     "name": "#%%\n"
    }
   },
   "outputs": [
    {
     "data": {
      "text/html": [
       "<div>\n",
       "<style scoped>\n",
       "    .dataframe tbody tr th:only-of-type {\n",
       "        vertical-align: middle;\n",
       "    }\n",
       "\n",
       "    .dataframe tbody tr th {\n",
       "        vertical-align: top;\n",
       "    }\n",
       "\n",
       "    .dataframe thead th {\n",
       "        text-align: right;\n",
       "    }\n",
       "</style>\n",
       "<table border=\"1\" class=\"dataframe\">\n",
       "  <thead>\n",
       "    <tr style=\"text-align: right;\">\n",
       "      <th></th>\n",
       "      <th>symboling</th>\n",
       "      <th>CarName</th>\n",
       "      <th>wheelbase</th>\n",
       "      <th>carlength</th>\n",
       "      <th>carwidth</th>\n",
       "      <th>carheight</th>\n",
       "      <th>curbweight</th>\n",
       "      <th>enginesize</th>\n",
       "      <th>boreratio</th>\n",
       "      <th>stroke</th>\n",
       "      <th>...</th>\n",
       "      <th>carbody_hardtop</th>\n",
       "      <th>carbody_hatchback</th>\n",
       "      <th>carbody_sedan</th>\n",
       "      <th>carbody_wagon</th>\n",
       "      <th>cylindernumber_five</th>\n",
       "      <th>cylindernumber_four</th>\n",
       "      <th>cylindernumber_six</th>\n",
       "      <th>cylindernumber_three</th>\n",
       "      <th>cylindernumber_twelve</th>\n",
       "      <th>cylindernumber_two</th>\n",
       "    </tr>\n",
       "    <tr>\n",
       "      <th>car_ID</th>\n",
       "      <th></th>\n",
       "      <th></th>\n",
       "      <th></th>\n",
       "      <th></th>\n",
       "      <th></th>\n",
       "      <th></th>\n",
       "      <th></th>\n",
       "      <th></th>\n",
       "      <th></th>\n",
       "      <th></th>\n",
       "      <th></th>\n",
       "      <th></th>\n",
       "      <th></th>\n",
       "      <th></th>\n",
       "      <th></th>\n",
       "      <th></th>\n",
       "      <th></th>\n",
       "      <th></th>\n",
       "      <th></th>\n",
       "      <th></th>\n",
       "      <th></th>\n",
       "    </tr>\n",
       "  </thead>\n",
       "  <tbody>\n",
       "    <tr>\n",
       "      <th>1</th>\n",
       "      <td>3</td>\n",
       "      <td>alfa-romero giulia</td>\n",
       "      <td>88.6</td>\n",
       "      <td>168.8</td>\n",
       "      <td>64.1</td>\n",
       "      <td>48.8</td>\n",
       "      <td>2548</td>\n",
       "      <td>130</td>\n",
       "      <td>3.47</td>\n",
       "      <td>2.68</td>\n",
       "      <td>...</td>\n",
       "      <td>0</td>\n",
       "      <td>0</td>\n",
       "      <td>0</td>\n",
       "      <td>0</td>\n",
       "      <td>0</td>\n",
       "      <td>1</td>\n",
       "      <td>0</td>\n",
       "      <td>0</td>\n",
       "      <td>0</td>\n",
       "      <td>0</td>\n",
       "    </tr>\n",
       "    <tr>\n",
       "      <th>2</th>\n",
       "      <td>3</td>\n",
       "      <td>alfa-romero stelvio</td>\n",
       "      <td>88.6</td>\n",
       "      <td>168.8</td>\n",
       "      <td>64.1</td>\n",
       "      <td>48.8</td>\n",
       "      <td>2548</td>\n",
       "      <td>130</td>\n",
       "      <td>3.47</td>\n",
       "      <td>2.68</td>\n",
       "      <td>...</td>\n",
       "      <td>0</td>\n",
       "      <td>0</td>\n",
       "      <td>0</td>\n",
       "      <td>0</td>\n",
       "      <td>0</td>\n",
       "      <td>1</td>\n",
       "      <td>0</td>\n",
       "      <td>0</td>\n",
       "      <td>0</td>\n",
       "      <td>0</td>\n",
       "    </tr>\n",
       "    <tr>\n",
       "      <th>3</th>\n",
       "      <td>1</td>\n",
       "      <td>alfa-romero Quadrifoglio</td>\n",
       "      <td>94.5</td>\n",
       "      <td>171.2</td>\n",
       "      <td>65.5</td>\n",
       "      <td>52.4</td>\n",
       "      <td>2823</td>\n",
       "      <td>152</td>\n",
       "      <td>2.68</td>\n",
       "      <td>3.47</td>\n",
       "      <td>...</td>\n",
       "      <td>0</td>\n",
       "      <td>1</td>\n",
       "      <td>0</td>\n",
       "      <td>0</td>\n",
       "      <td>0</td>\n",
       "      <td>0</td>\n",
       "      <td>1</td>\n",
       "      <td>0</td>\n",
       "      <td>0</td>\n",
       "      <td>0</td>\n",
       "    </tr>\n",
       "    <tr>\n",
       "      <th>4</th>\n",
       "      <td>2</td>\n",
       "      <td>audi 100 ls</td>\n",
       "      <td>99.8</td>\n",
       "      <td>176.6</td>\n",
       "      <td>66.2</td>\n",
       "      <td>54.3</td>\n",
       "      <td>2337</td>\n",
       "      <td>109</td>\n",
       "      <td>3.19</td>\n",
       "      <td>3.40</td>\n",
       "      <td>...</td>\n",
       "      <td>0</td>\n",
       "      <td>0</td>\n",
       "      <td>1</td>\n",
       "      <td>0</td>\n",
       "      <td>0</td>\n",
       "      <td>1</td>\n",
       "      <td>0</td>\n",
       "      <td>0</td>\n",
       "      <td>0</td>\n",
       "      <td>0</td>\n",
       "    </tr>\n",
       "    <tr>\n",
       "      <th>5</th>\n",
       "      <td>2</td>\n",
       "      <td>audi 100ls</td>\n",
       "      <td>99.4</td>\n",
       "      <td>176.6</td>\n",
       "      <td>66.4</td>\n",
       "      <td>54.3</td>\n",
       "      <td>2824</td>\n",
       "      <td>136</td>\n",
       "      <td>3.19</td>\n",
       "      <td>3.40</td>\n",
       "      <td>...</td>\n",
       "      <td>0</td>\n",
       "      <td>0</td>\n",
       "      <td>1</td>\n",
       "      <td>0</td>\n",
       "      <td>1</td>\n",
       "      <td>0</td>\n",
       "      <td>0</td>\n",
       "      <td>0</td>\n",
       "      <td>0</td>\n",
       "      <td>0</td>\n",
       "    </tr>\n",
       "  </tbody>\n",
       "</table>\n",
       "<p>5 rows × 29 columns</p>\n",
       "</div>"
      ],
      "text/plain": [
       "        symboling                   CarName  wheelbase  carlength  carwidth  \\\n",
       "car_ID                                                                        \n",
       "1               3        alfa-romero giulia       88.6      168.8      64.1   \n",
       "2               3       alfa-romero stelvio       88.6      168.8      64.1   \n",
       "3               1  alfa-romero Quadrifoglio       94.5      171.2      65.5   \n",
       "4               2               audi 100 ls       99.8      176.6      66.2   \n",
       "5               2                audi 100ls       99.4      176.6      66.4   \n",
       "\n",
       "        carheight  curbweight  enginesize  boreratio  stroke  ...  \\\n",
       "car_ID                                                        ...   \n",
       "1            48.8        2548         130       3.47    2.68  ...   \n",
       "2            48.8        2548         130       3.47    2.68  ...   \n",
       "3            52.4        2823         152       2.68    3.47  ...   \n",
       "4            54.3        2337         109       3.19    3.40  ...   \n",
       "5            54.3        2824         136       3.19    3.40  ...   \n",
       "\n",
       "        carbody_hardtop  carbody_hatchback  carbody_sedan  carbody_wagon  \\\n",
       "car_ID                                                                     \n",
       "1                     0                  0              0              0   \n",
       "2                     0                  0              0              0   \n",
       "3                     0                  1              0              0   \n",
       "4                     0                  0              1              0   \n",
       "5                     0                  0              1              0   \n",
       "\n",
       "        cylindernumber_five  cylindernumber_four  cylindernumber_six  \\\n",
       "car_ID                                                                 \n",
       "1                         0                    1                   0   \n",
       "2                         0                    1                   0   \n",
       "3                         0                    0                   1   \n",
       "4                         0                    1                   0   \n",
       "5                         1                    0                   0   \n",
       "\n",
       "        cylindernumber_three  cylindernumber_twelve  cylindernumber_two  \n",
       "car_ID                                                                   \n",
       "1                          0                      0                   0  \n",
       "2                          0                      0                   0  \n",
       "3                          0                      0                   0  \n",
       "4                          0                      0                   0  \n",
       "5                          0                      0                   0  \n",
       "\n",
       "[5 rows x 29 columns]"
      ]
     },
     "execution_count": 4,
     "metadata": {},
     "output_type": "execute_result"
    }
   ],
   "source": [
    "# Olhando a transformação\n",
    "cars_dummies.head()"
   ]
  },
  {
   "cell_type": "code",
   "execution_count": 5,
   "metadata": {
    "pycharm": {
     "name": "#%%\n"
    }
   },
   "outputs": [],
   "source": [
    "# Separando em X e y\n",
    "X = cars_dummies.drop(['CarName', 'price'], axis = 1)\n",
    "y = cars_dummies['price']"
   ]
  },
  {
   "cell_type": "code",
   "execution_count": 6,
   "metadata": {
    "pycharm": {
     "name": "#%%\n"
    }
   },
   "outputs": [],
   "source": [
    "# Separando em treino e teste\n",
    "X_train, X_test, y_train, y_test = train_test_split(X,\n",
    "                                                    y,\n",
    "                                                    test_size = 0.3,\n",
    "                                                    random_state = 42)"
   ]
  },
  {
   "cell_type": "code",
   "execution_count": 8,
   "metadata": {
    "pycharm": {
     "name": "#%%\n"
    }
   },
   "outputs": [],
   "source": [
    "# Instanciar a normalização\n",
    "scaler = StandardScaler()\n",
    "\n",
    "# Fit e Transform do Scaler\n",
    "X_train_std = scaler.fit_transform(X_train)\n",
    "X_test_std = scaler.transform(X_test)"
   ]
  },
  {
   "cell_type": "markdown",
   "metadata": {
    "pycharm": {
     "name": "#%% md\n"
    }
   },
   "source": [
    "### Regressão Linear"
   ]
  },
  {
   "cell_type": "code",
   "execution_count": 9,
   "metadata": {
    "pycharm": {
     "name": "#%%\n"
    }
   },
   "outputs": [],
   "source": [
    "# Instancia o modelo\n",
    "linreg = LinearRegression()"
   ]
  },
  {
   "cell_type": "code",
   "execution_count": 10,
   "metadata": {
    "pycharm": {
     "name": "#%%\n"
    }
   },
   "outputs": [
    {
     "data": {
      "text/plain": [
       "LinearRegression()"
      ]
     },
     "execution_count": 10,
     "metadata": {},
     "output_type": "execute_result"
    }
   ],
   "source": [
    "# Fit dos dados (ou seja, vamos passar os dados para o modelo aprender com eles)\n",
    "linreg.fit(X_train_std, y_train)"
   ]
  },
  {
   "cell_type": "code",
   "execution_count": 12,
   "metadata": {
    "pycharm": {
     "name": "#%%\n"
    }
   },
   "outputs": [],
   "source": [
    "# Para os dados novos, vamos definir a predição para a base de teste\n",
    "y_pred_lr = linreg.predict(X_test_std)"
   ]
  },
  {
   "cell_type": "code",
   "execution_count": 13,
   "metadata": {
    "pycharm": {
     "name": "#%%\n"
    }
   },
   "outputs": [
    {
     "data": {
      "text/html": [
       "<div>\n",
       "<style scoped>\n",
       "    .dataframe tbody tr th:only-of-type {\n",
       "        vertical-align: middle;\n",
       "    }\n",
       "\n",
       "    .dataframe tbody tr th {\n",
       "        vertical-align: top;\n",
       "    }\n",
       "\n",
       "    .dataframe thead th {\n",
       "        text-align: right;\n",
       "    }\n",
       "</style>\n",
       "<table border=\"1\" class=\"dataframe\">\n",
       "  <thead>\n",
       "    <tr style=\"text-align: right;\">\n",
       "      <th></th>\n",
       "      <th>Features</th>\n",
       "      <th>Scores</th>\n",
       "    </tr>\n",
       "  </thead>\n",
       "  <tbody>\n",
       "    <tr>\n",
       "      <th>0</th>\n",
       "      <td>enginesize</td>\n",
       "      <td>5.315351e+03</td>\n",
       "    </tr>\n",
       "    <tr>\n",
       "      <th>1</th>\n",
       "      <td>compressionratio</td>\n",
       "      <td>2.924531e+03</td>\n",
       "    </tr>\n",
       "    <tr>\n",
       "      <th>2</th>\n",
       "      <td>fueltype_gas</td>\n",
       "      <td>2.700265e+03</td>\n",
       "    </tr>\n",
       "    <tr>\n",
       "      <th>3</th>\n",
       "      <td>curbweight</td>\n",
       "      <td>1.243329e+03</td>\n",
       "    </tr>\n",
       "    <tr>\n",
       "      <th>4</th>\n",
       "      <td>highwaympg</td>\n",
       "      <td>1.047525e+03</td>\n",
       "    </tr>\n",
       "    <tr>\n",
       "      <th>5</th>\n",
       "      <td>carwidth</td>\n",
       "      <td>9.818643e+02</td>\n",
       "    </tr>\n",
       "    <tr>\n",
       "      <th>6</th>\n",
       "      <td>peakrpm</td>\n",
       "      <td>9.599665e+02</td>\n",
       "    </tr>\n",
       "    <tr>\n",
       "      <th>7</th>\n",
       "      <td>aspiration_turbo</td>\n",
       "      <td>8.728895e+02</td>\n",
       "    </tr>\n",
       "    <tr>\n",
       "      <th>8</th>\n",
       "      <td>wheelbase</td>\n",
       "      <td>7.618308e+02</td>\n",
       "    </tr>\n",
       "    <tr>\n",
       "      <th>9</th>\n",
       "      <td>cylindernumber_two</td>\n",
       "      <td>6.960990e+02</td>\n",
       "    </tr>\n",
       "    <tr>\n",
       "      <th>10</th>\n",
       "      <td>carheight</td>\n",
       "      <td>4.804613e+02</td>\n",
       "    </tr>\n",
       "    <tr>\n",
       "      <th>11</th>\n",
       "      <td>carbody_hardtop</td>\n",
       "      <td>3.163718e+02</td>\n",
       "    </tr>\n",
       "    <tr>\n",
       "      <th>12</th>\n",
       "      <td>cylindernumber_five</td>\n",
       "      <td>2.331140e+02</td>\n",
       "    </tr>\n",
       "    <tr>\n",
       "      <th>13</th>\n",
       "      <td>horsepower</td>\n",
       "      <td>2.144130e+02</td>\n",
       "    </tr>\n",
       "    <tr>\n",
       "      <th>14</th>\n",
       "      <td>cylindernumber_three</td>\n",
       "      <td>-6.821210e-13</td>\n",
       "    </tr>\n",
       "    <tr>\n",
       "      <th>15</th>\n",
       "      <td>doornumber_two</td>\n",
       "      <td>-3.360057e+01</td>\n",
       "    </tr>\n",
       "    <tr>\n",
       "      <th>16</th>\n",
       "      <td>symboling</td>\n",
       "      <td>-1.085439e+02</td>\n",
       "    </tr>\n",
       "    <tr>\n",
       "      <th>17</th>\n",
       "      <td>boreratio</td>\n",
       "      <td>-3.659076e+02</td>\n",
       "    </tr>\n",
       "    <tr>\n",
       "      <th>18</th>\n",
       "      <td>cylindernumber_six</td>\n",
       "      <td>-4.319026e+02</td>\n",
       "    </tr>\n",
       "    <tr>\n",
       "      <th>19</th>\n",
       "      <td>cylindernumber_four</td>\n",
       "      <td>-7.116728e+02</td>\n",
       "    </tr>\n",
       "    <tr>\n",
       "      <th>20</th>\n",
       "      <td>carlength</td>\n",
       "      <td>-9.216381e+02</td>\n",
       "    </tr>\n",
       "    <tr>\n",
       "      <th>21</th>\n",
       "      <td>stroke</td>\n",
       "      <td>-1.060574e+03</td>\n",
       "    </tr>\n",
       "    <tr>\n",
       "      <th>22</th>\n",
       "      <td>cylindernumber_twelve</td>\n",
       "      <td>-1.061687e+03</td>\n",
       "    </tr>\n",
       "    <tr>\n",
       "      <th>23</th>\n",
       "      <td>carbody_sedan</td>\n",
       "      <td>-1.325718e+03</td>\n",
       "    </tr>\n",
       "    <tr>\n",
       "      <th>24</th>\n",
       "      <td>citympg</td>\n",
       "      <td>-1.549010e+03</td>\n",
       "    </tr>\n",
       "    <tr>\n",
       "      <th>25</th>\n",
       "      <td>carbody_wagon</td>\n",
       "      <td>-1.681523e+03</td>\n",
       "    </tr>\n",
       "    <tr>\n",
       "      <th>26</th>\n",
       "      <td>carbody_hatchback</td>\n",
       "      <td>-1.743051e+03</td>\n",
       "    </tr>\n",
       "  </tbody>\n",
       "</table>\n",
       "</div>"
      ],
      "text/plain": [
       "                 Features        Scores\n",
       "0              enginesize  5.315351e+03\n",
       "1        compressionratio  2.924531e+03\n",
       "2            fueltype_gas  2.700265e+03\n",
       "3              curbweight  1.243329e+03\n",
       "4              highwaympg  1.047525e+03\n",
       "5                carwidth  9.818643e+02\n",
       "6                 peakrpm  9.599665e+02\n",
       "7        aspiration_turbo  8.728895e+02\n",
       "8               wheelbase  7.618308e+02\n",
       "9      cylindernumber_two  6.960990e+02\n",
       "10              carheight  4.804613e+02\n",
       "11        carbody_hardtop  3.163718e+02\n",
       "12    cylindernumber_five  2.331140e+02\n",
       "13             horsepower  2.144130e+02\n",
       "14   cylindernumber_three -6.821210e-13\n",
       "15         doornumber_two -3.360057e+01\n",
       "16              symboling -1.085439e+02\n",
       "17              boreratio -3.659076e+02\n",
       "18     cylindernumber_six -4.319026e+02\n",
       "19    cylindernumber_four -7.116728e+02\n",
       "20              carlength -9.216381e+02\n",
       "21                 stroke -1.060574e+03\n",
       "22  cylindernumber_twelve -1.061687e+03\n",
       "23          carbody_sedan -1.325718e+03\n",
       "24                citympg -1.549010e+03\n",
       "25          carbody_wagon -1.681523e+03\n",
       "26      carbody_hatchback -1.743051e+03"
      ]
     },
     "execution_count": 13,
     "metadata": {},
     "output_type": "execute_result"
    }
   ],
   "source": [
    "# feature Importance - LinReg\n",
    "coefs = linreg.coef_\n",
    "\n",
    "list_columns = X_train.columns\n",
    "list_feature = []\n",
    "list_score = []\n",
    "\n",
    "for i, v in enumerate(coefs):\n",
    "    list_feature.append(list_columns[i])\n",
    "    list_score.append(v)\n",
    "\n",
    "dictionary = {'Features': list_feature,\n",
    "              'Scores': list_score}\n",
    "\n",
    "df_features = pd.DataFrame(dictionary)\n",
    "df_features = df_features.sort_values(by=['Scores'], ascending=False)\n",
    "df_features.reset_index(inplace=True, drop=True)\n",
    "df_features"
   ]
  },
  {
   "cell_type": "markdown",
   "metadata": {
    "pycharm": {
     "name": "#%% md\n"
    }
   },
   "source": [
    "### Ridge"
   ]
  },
  {
   "cell_type": "code",
   "execution_count": 14,
   "metadata": {
    "pycharm": {
     "name": "#%%\n"
    }
   },
   "outputs": [],
   "source": [
    "# Instancia o modelo\n",
    "ridge = Ridge()"
   ]
  },
  {
   "cell_type": "code",
   "execution_count": 15,
   "metadata": {
    "pycharm": {
     "name": "#%%\n"
    }
   },
   "outputs": [
    {
     "data": {
      "text/plain": [
       "Ridge()"
      ]
     },
     "execution_count": 15,
     "metadata": {},
     "output_type": "execute_result"
    }
   ],
   "source": [
    "# Fit dos dados (ou seja, vamos passar os dados para o modelo aprender com eles)\n",
    "ridge.fit(X_train_std, y_train)"
   ]
  },
  {
   "cell_type": "code",
   "execution_count": 16,
   "metadata": {
    "pycharm": {
     "name": "#%%\n"
    }
   },
   "outputs": [],
   "source": [
    "# Para os dados novos, vamos definir a predição para a base de teste\n",
    "y_pred_ridge = ridge.predict(X_test_std)"
   ]
  },
  {
   "cell_type": "code",
   "execution_count": 17,
   "metadata": {
    "pycharm": {
     "name": "#%%\n"
    }
   },
   "outputs": [
    {
     "data": {
      "text/html": [
       "<div>\n",
       "<style scoped>\n",
       "    .dataframe tbody tr th:only-of-type {\n",
       "        vertical-align: middle;\n",
       "    }\n",
       "\n",
       "    .dataframe tbody tr th {\n",
       "        vertical-align: top;\n",
       "    }\n",
       "\n",
       "    .dataframe thead th {\n",
       "        text-align: right;\n",
       "    }\n",
       "</style>\n",
       "<table border=\"1\" class=\"dataframe\">\n",
       "  <thead>\n",
       "    <tr style=\"text-align: right;\">\n",
       "      <th></th>\n",
       "      <th>Features</th>\n",
       "      <th>Scores</th>\n",
       "    </tr>\n",
       "  </thead>\n",
       "  <tbody>\n",
       "    <tr>\n",
       "      <th>0</th>\n",
       "      <td>enginesize</td>\n",
       "      <td>4358.903526</td>\n",
       "    </tr>\n",
       "    <tr>\n",
       "      <th>1</th>\n",
       "      <td>curbweight</td>\n",
       "      <td>1412.142609</td>\n",
       "    </tr>\n",
       "    <tr>\n",
       "      <th>2</th>\n",
       "      <td>compressionratio</td>\n",
       "      <td>1165.949671</td>\n",
       "    </tr>\n",
       "    <tr>\n",
       "      <th>3</th>\n",
       "      <td>carwidth</td>\n",
       "      <td>1077.449684</td>\n",
       "    </tr>\n",
       "    <tr>\n",
       "      <th>4</th>\n",
       "      <td>fueltype_gas</td>\n",
       "      <td>922.637678</td>\n",
       "    </tr>\n",
       "    <tr>\n",
       "      <th>5</th>\n",
       "      <td>peakrpm</td>\n",
       "      <td>914.678189</td>\n",
       "    </tr>\n",
       "    <tr>\n",
       "      <th>6</th>\n",
       "      <td>wheelbase</td>\n",
       "      <td>642.395811</td>\n",
       "    </tr>\n",
       "    <tr>\n",
       "      <th>7</th>\n",
       "      <td>highwaympg</td>\n",
       "      <td>601.577174</td>\n",
       "    </tr>\n",
       "    <tr>\n",
       "      <th>8</th>\n",
       "      <td>aspiration_turbo</td>\n",
       "      <td>589.250228</td>\n",
       "    </tr>\n",
       "    <tr>\n",
       "      <th>9</th>\n",
       "      <td>cylindernumber_two</td>\n",
       "      <td>482.123002</td>\n",
       "    </tr>\n",
       "    <tr>\n",
       "      <th>10</th>\n",
       "      <td>horsepower</td>\n",
       "      <td>477.254335</td>\n",
       "    </tr>\n",
       "    <tr>\n",
       "      <th>11</th>\n",
       "      <td>carbody_hardtop</td>\n",
       "      <td>458.226573</td>\n",
       "    </tr>\n",
       "    <tr>\n",
       "      <th>12</th>\n",
       "      <td>carheight</td>\n",
       "      <td>447.018859</td>\n",
       "    </tr>\n",
       "    <tr>\n",
       "      <th>13</th>\n",
       "      <td>cylindernumber_five</td>\n",
       "      <td>24.121645</td>\n",
       "    </tr>\n",
       "    <tr>\n",
       "      <th>14</th>\n",
       "      <td>doornumber_two</td>\n",
       "      <td>14.248682</td>\n",
       "    </tr>\n",
       "    <tr>\n",
       "      <th>15</th>\n",
       "      <td>cylindernumber_three</td>\n",
       "      <td>0.000000</td>\n",
       "    </tr>\n",
       "    <tr>\n",
       "      <th>16</th>\n",
       "      <td>symboling</td>\n",
       "      <td>-30.056475</td>\n",
       "    </tr>\n",
       "    <tr>\n",
       "      <th>17</th>\n",
       "      <td>boreratio</td>\n",
       "      <td>-217.793086</td>\n",
       "    </tr>\n",
       "    <tr>\n",
       "      <th>18</th>\n",
       "      <td>cylindernumber_six</td>\n",
       "      <td>-516.252083</td>\n",
       "    </tr>\n",
       "    <tr>\n",
       "      <th>19</th>\n",
       "      <td>carlength</td>\n",
       "      <td>-685.024617</td>\n",
       "    </tr>\n",
       "    <tr>\n",
       "      <th>20</th>\n",
       "      <td>cylindernumber_twelve</td>\n",
       "      <td>-803.885574</td>\n",
       "    </tr>\n",
       "    <tr>\n",
       "      <th>21</th>\n",
       "      <td>citympg</td>\n",
       "      <td>-916.532366</td>\n",
       "    </tr>\n",
       "    <tr>\n",
       "      <th>22</th>\n",
       "      <td>stroke</td>\n",
       "      <td>-974.270887</td>\n",
       "    </tr>\n",
       "    <tr>\n",
       "      <th>23</th>\n",
       "      <td>carbody_sedan</td>\n",
       "      <td>-1126.121819</td>\n",
       "    </tr>\n",
       "    <tr>\n",
       "      <th>24</th>\n",
       "      <td>cylindernumber_four</td>\n",
       "      <td>-1154.828211</td>\n",
       "    </tr>\n",
       "    <tr>\n",
       "      <th>25</th>\n",
       "      <td>carbody_hatchback</td>\n",
       "      <td>-1592.269290</td>\n",
       "    </tr>\n",
       "    <tr>\n",
       "      <th>26</th>\n",
       "      <td>carbody_wagon</td>\n",
       "      <td>-1600.324973</td>\n",
       "    </tr>\n",
       "  </tbody>\n",
       "</table>\n",
       "</div>"
      ],
      "text/plain": [
       "                 Features       Scores\n",
       "0              enginesize  4358.903526\n",
       "1              curbweight  1412.142609\n",
       "2        compressionratio  1165.949671\n",
       "3                carwidth  1077.449684\n",
       "4            fueltype_gas   922.637678\n",
       "5                 peakrpm   914.678189\n",
       "6               wheelbase   642.395811\n",
       "7              highwaympg   601.577174\n",
       "8        aspiration_turbo   589.250228\n",
       "9      cylindernumber_two   482.123002\n",
       "10             horsepower   477.254335\n",
       "11        carbody_hardtop   458.226573\n",
       "12              carheight   447.018859\n",
       "13    cylindernumber_five    24.121645\n",
       "14         doornumber_two    14.248682\n",
       "15   cylindernumber_three     0.000000\n",
       "16              symboling   -30.056475\n",
       "17              boreratio  -217.793086\n",
       "18     cylindernumber_six  -516.252083\n",
       "19              carlength  -685.024617\n",
       "20  cylindernumber_twelve  -803.885574\n",
       "21                citympg  -916.532366\n",
       "22                 stroke  -974.270887\n",
       "23          carbody_sedan -1126.121819\n",
       "24    cylindernumber_four -1154.828211\n",
       "25      carbody_hatchback -1592.269290\n",
       "26          carbody_wagon -1600.324973"
      ]
     },
     "execution_count": 17,
     "metadata": {},
     "output_type": "execute_result"
    }
   ],
   "source": [
    "# Feature Importance - Ridge\n",
    "coefs2 = ridge.coef_\n",
    "\n",
    "list_columns = X_train.columns\n",
    "list_feature = []\n",
    "list_score = []\n",
    "\n",
    "for i, v in enumerate(coefs2):\n",
    "    list_feature.append(list_columns[i])\n",
    "    list_score.append(v)\n",
    "\n",
    "dictionary2 = {'Features': list_feature,\n",
    "              'Scores': list_score}\n",
    "\n",
    "df_features2 = pd.DataFrame(dictionary2)\n",
    "df_features2 = df_features2.sort_values(by=['Scores'], ascending=False)\n",
    "df_features2.reset_index(inplace=True, drop=True)\n",
    "df_features2"
   ]
  },
  {
   "cell_type": "markdown",
   "metadata": {
    "pycharm": {
     "name": "#%% md\n"
    }
   },
   "source": [
    "## "
   ]
  },
  {
   "cell_type": "markdown",
   "metadata": {
    "pycharm": {
     "name": "#%% md\n"
    }
   },
   "source": [
    "### Lasso"
   ]
  },
  {
   "cell_type": "code",
   "execution_count": 26,
   "metadata": {
    "pycharm": {
     "name": "#%%\n"
    }
   },
   "outputs": [],
   "source": [
    "# Instancia o modelo\n",
    "lasso = Lasso(alpha = 5)"
   ]
  },
  {
   "cell_type": "code",
   "execution_count": 27,
   "metadata": {
    "pycharm": {
     "name": "#%%\n"
    }
   },
   "outputs": [
    {
     "data": {
      "text/plain": [
       "Lasso(alpha=5)"
      ]
     },
     "execution_count": 27,
     "metadata": {},
     "output_type": "execute_result"
    }
   ],
   "source": [
    "# Fit dos dados (ou seja, vamos passar os dados para o modelo aprender com eles)\n",
    "lasso.fit(X_train_std, y_train)"
   ]
  },
  {
   "cell_type": "code",
   "execution_count": 28,
   "metadata": {
    "pycharm": {
     "name": "#%%\n"
    }
   },
   "outputs": [],
   "source": [
    "# Para os dados novos, vamos definir a predição para a base de teste\n",
    "y_pred_lasso = lasso.predict(X_test_std)"
   ]
  },
  {
   "cell_type": "code",
   "execution_count": 29,
   "metadata": {
    "pycharm": {
     "name": "#%%\n"
    }
   },
   "outputs": [
    {
     "data": {
      "text/html": [
       "<div>\n",
       "<style scoped>\n",
       "    .dataframe tbody tr th:only-of-type {\n",
       "        vertical-align: middle;\n",
       "    }\n",
       "\n",
       "    .dataframe tbody tr th {\n",
       "        vertical-align: top;\n",
       "    }\n",
       "\n",
       "    .dataframe thead th {\n",
       "        text-align: right;\n",
       "    }\n",
       "</style>\n",
       "<table border=\"1\" class=\"dataframe\">\n",
       "  <thead>\n",
       "    <tr style=\"text-align: right;\">\n",
       "      <th></th>\n",
       "      <th>Features</th>\n",
       "      <th>Scores</th>\n",
       "    </tr>\n",
       "  </thead>\n",
       "  <tbody>\n",
       "    <tr>\n",
       "      <th>0</th>\n",
       "      <td>enginesize</td>\n",
       "      <td>5018.971189</td>\n",
       "    </tr>\n",
       "    <tr>\n",
       "      <th>1</th>\n",
       "      <td>compressionratio</td>\n",
       "      <td>1814.805480</td>\n",
       "    </tr>\n",
       "    <tr>\n",
       "      <th>2</th>\n",
       "      <td>fueltype_gas</td>\n",
       "      <td>1576.132772</td>\n",
       "    </tr>\n",
       "    <tr>\n",
       "      <th>3</th>\n",
       "      <td>curbweight</td>\n",
       "      <td>1234.433335</td>\n",
       "    </tr>\n",
       "    <tr>\n",
       "      <th>4</th>\n",
       "      <td>carwidth</td>\n",
       "      <td>1056.063431</td>\n",
       "    </tr>\n",
       "    <tr>\n",
       "      <th>5</th>\n",
       "      <td>peakrpm</td>\n",
       "      <td>971.719399</td>\n",
       "    </tr>\n",
       "    <tr>\n",
       "      <th>6</th>\n",
       "      <td>highwaympg</td>\n",
       "      <td>752.561728</td>\n",
       "    </tr>\n",
       "    <tr>\n",
       "      <th>7</th>\n",
       "      <td>aspiration_turbo</td>\n",
       "      <td>727.886137</td>\n",
       "    </tr>\n",
       "    <tr>\n",
       "      <th>8</th>\n",
       "      <td>cylindernumber_two</td>\n",
       "      <td>644.306544</td>\n",
       "    </tr>\n",
       "    <tr>\n",
       "      <th>9</th>\n",
       "      <td>wheelbase</td>\n",
       "      <td>634.338673</td>\n",
       "    </tr>\n",
       "    <tr>\n",
       "      <th>10</th>\n",
       "      <td>carheight</td>\n",
       "      <td>477.672218</td>\n",
       "    </tr>\n",
       "    <tr>\n",
       "      <th>11</th>\n",
       "      <td>carbody_hardtop</td>\n",
       "      <td>363.582324</td>\n",
       "    </tr>\n",
       "    <tr>\n",
       "      <th>12</th>\n",
       "      <td>horsepower</td>\n",
       "      <td>309.265699</td>\n",
       "    </tr>\n",
       "    <tr>\n",
       "      <th>13</th>\n",
       "      <td>cylindernumber_five</td>\n",
       "      <td>159.338981</td>\n",
       "    </tr>\n",
       "    <tr>\n",
       "      <th>14</th>\n",
       "      <td>doornumber_two</td>\n",
       "      <td>-0.000000</td>\n",
       "    </tr>\n",
       "    <tr>\n",
       "      <th>15</th>\n",
       "      <td>cylindernumber_three</td>\n",
       "      <td>0.000000</td>\n",
       "    </tr>\n",
       "    <tr>\n",
       "      <th>16</th>\n",
       "      <td>symboling</td>\n",
       "      <td>-67.346447</td>\n",
       "    </tr>\n",
       "    <tr>\n",
       "      <th>17</th>\n",
       "      <td>boreratio</td>\n",
       "      <td>-294.364338</td>\n",
       "    </tr>\n",
       "    <tr>\n",
       "      <th>18</th>\n",
       "      <td>cylindernumber_six</td>\n",
       "      <td>-410.238080</td>\n",
       "    </tr>\n",
       "    <tr>\n",
       "      <th>19</th>\n",
       "      <td>carlength</td>\n",
       "      <td>-739.697580</td>\n",
       "    </tr>\n",
       "    <tr>\n",
       "      <th>20</th>\n",
       "      <td>cylindernumber_four</td>\n",
       "      <td>-831.368329</td>\n",
       "    </tr>\n",
       "    <tr>\n",
       "      <th>21</th>\n",
       "      <td>cylindernumber_twelve</td>\n",
       "      <td>-943.804514</td>\n",
       "    </tr>\n",
       "    <tr>\n",
       "      <th>22</th>\n",
       "      <td>stroke</td>\n",
       "      <td>-1046.409531</td>\n",
       "    </tr>\n",
       "    <tr>\n",
       "      <th>23</th>\n",
       "      <td>citympg</td>\n",
       "      <td>-1127.097760</td>\n",
       "    </tr>\n",
       "    <tr>\n",
       "      <th>24</th>\n",
       "      <td>carbody_sedan</td>\n",
       "      <td>-1205.476817</td>\n",
       "    </tr>\n",
       "    <tr>\n",
       "      <th>25</th>\n",
       "      <td>carbody_wagon</td>\n",
       "      <td>-1622.396815</td>\n",
       "    </tr>\n",
       "    <tr>\n",
       "      <th>26</th>\n",
       "      <td>carbody_hatchback</td>\n",
       "      <td>-1655.203539</td>\n",
       "    </tr>\n",
       "  </tbody>\n",
       "</table>\n",
       "</div>"
      ],
      "text/plain": [
       "                 Features       Scores\n",
       "0              enginesize  5018.971189\n",
       "1        compressionratio  1814.805480\n",
       "2            fueltype_gas  1576.132772\n",
       "3              curbweight  1234.433335\n",
       "4                carwidth  1056.063431\n",
       "5                 peakrpm   971.719399\n",
       "6              highwaympg   752.561728\n",
       "7        aspiration_turbo   727.886137\n",
       "8      cylindernumber_two   644.306544\n",
       "9               wheelbase   634.338673\n",
       "10              carheight   477.672218\n",
       "11        carbody_hardtop   363.582324\n",
       "12             horsepower   309.265699\n",
       "13    cylindernumber_five   159.338981\n",
       "14         doornumber_two    -0.000000\n",
       "15   cylindernumber_three     0.000000\n",
       "16              symboling   -67.346447\n",
       "17              boreratio  -294.364338\n",
       "18     cylindernumber_six  -410.238080\n",
       "19              carlength  -739.697580\n",
       "20    cylindernumber_four  -831.368329\n",
       "21  cylindernumber_twelve  -943.804514\n",
       "22                 stroke -1046.409531\n",
       "23                citympg -1127.097760\n",
       "24          carbody_sedan -1205.476817\n",
       "25          carbody_wagon -1622.396815\n",
       "26      carbody_hatchback -1655.203539"
      ]
     },
     "execution_count": 29,
     "metadata": {},
     "output_type": "execute_result"
    }
   ],
   "source": [
    "# Feature Importance - Lasso\n",
    "coefs3 = lasso.coef_\n",
    "\n",
    "list_columns = X_train.columns\n",
    "list_feature = []\n",
    "list_score = []\n",
    "\n",
    "for i, v in enumerate(coefs3):\n",
    "    list_feature.append(list_columns[i])\n",
    "    list_score.append(v)\n",
    "\n",
    "dictionary3 = {'Features': list_feature,\n",
    "              'Scores': list_score}\n",
    "\n",
    "df_features3 = pd.DataFrame(dictionary3)\n",
    "df_features3 = df_features3.sort_values(by=['Scores'], ascending=False)\n",
    "df_features3.reset_index(inplace=True, drop=True)\n",
    "df_features3"
   ]
  },
  {
   "cell_type": "markdown",
   "metadata": {
    "pycharm": {
     "name": "#%% md\n"
    }
   },
   "source": [
    "## "
   ]
  },
  {
   "cell_type": "markdown",
   "metadata": {
    "pycharm": {
     "name": "#%% md\n"
    }
   },
   "source": [
    "### ElasticNet"
   ]
  },
  {
   "cell_type": "code",
   "execution_count": 30,
   "metadata": {
    "pycharm": {
     "name": "#%%\n"
    }
   },
   "outputs": [],
   "source": [
    "# Instancia o modelo\n",
    "EN = ElasticNet()"
   ]
  },
  {
   "cell_type": "code",
   "execution_count": 31,
   "metadata": {
    "pycharm": {
     "name": "#%%\n"
    }
   },
   "outputs": [
    {
     "data": {
      "text/plain": [
       "ElasticNet()"
      ]
     },
     "execution_count": 31,
     "metadata": {},
     "output_type": "execute_result"
    }
   ],
   "source": [
    "# Fit dos dados (ou seja, vamos passar os dados para o modelo aprender com eles)\n",
    "EN.fit(X_train_std, y_train)"
   ]
  },
  {
   "cell_type": "code",
   "execution_count": 34,
   "metadata": {
    "pycharm": {
     "name": "#%%\n"
    }
   },
   "outputs": [],
   "source": [
    "# Para os dados novos, vamos definir a predição para a base de teste\n",
    "y_pred_EN = EN.predict(X_test_std)"
   ]
  },
  {
   "cell_type": "code",
   "execution_count": 33,
   "metadata": {
    "pycharm": {
     "name": "#%%\n"
    }
   },
   "outputs": [
    {
     "data": {
      "text/html": [
       "<div>\n",
       "<style scoped>\n",
       "    .dataframe tbody tr th:only-of-type {\n",
       "        vertical-align: middle;\n",
       "    }\n",
       "\n",
       "    .dataframe tbody tr th {\n",
       "        vertical-align: top;\n",
       "    }\n",
       "\n",
       "    .dataframe thead th {\n",
       "        text-align: right;\n",
       "    }\n",
       "</style>\n",
       "<table border=\"1\" class=\"dataframe\">\n",
       "  <thead>\n",
       "    <tr style=\"text-align: right;\">\n",
       "      <th></th>\n",
       "      <th>Features</th>\n",
       "      <th>Scores</th>\n",
       "    </tr>\n",
       "  </thead>\n",
       "  <tbody>\n",
       "    <tr>\n",
       "      <th>0</th>\n",
       "      <td>enginesize</td>\n",
       "      <td>1403.347430</td>\n",
       "    </tr>\n",
       "    <tr>\n",
       "      <th>1</th>\n",
       "      <td>carwidth</td>\n",
       "      <td>1013.262644</td>\n",
       "    </tr>\n",
       "    <tr>\n",
       "      <th>2</th>\n",
       "      <td>horsepower</td>\n",
       "      <td>997.267325</td>\n",
       "    </tr>\n",
       "    <tr>\n",
       "      <th>3</th>\n",
       "      <td>curbweight</td>\n",
       "      <td>961.875360</td>\n",
       "    </tr>\n",
       "    <tr>\n",
       "      <th>4</th>\n",
       "      <td>carbody_hardtop</td>\n",
       "      <td>848.036148</td>\n",
       "    </tr>\n",
       "    <tr>\n",
       "      <th>5</th>\n",
       "      <td>wheelbase</td>\n",
       "      <td>449.036598</td>\n",
       "    </tr>\n",
       "    <tr>\n",
       "      <th>6</th>\n",
       "      <td>carlength</td>\n",
       "      <td>334.534228</td>\n",
       "    </tr>\n",
       "    <tr>\n",
       "      <th>7</th>\n",
       "      <td>boreratio</td>\n",
       "      <td>326.374690</td>\n",
       "    </tr>\n",
       "    <tr>\n",
       "      <th>8</th>\n",
       "      <td>peakrpm</td>\n",
       "      <td>220.400167</td>\n",
       "    </tr>\n",
       "    <tr>\n",
       "      <th>9</th>\n",
       "      <td>doornumber_two</td>\n",
       "      <td>209.115872</td>\n",
       "    </tr>\n",
       "    <tr>\n",
       "      <th>10</th>\n",
       "      <td>compressionratio</td>\n",
       "      <td>185.946071</td>\n",
       "    </tr>\n",
       "    <tr>\n",
       "      <th>11</th>\n",
       "      <td>cylindernumber_six</td>\n",
       "      <td>184.936936</td>\n",
       "    </tr>\n",
       "    <tr>\n",
       "      <th>12</th>\n",
       "      <td>symboling</td>\n",
       "      <td>128.214886</td>\n",
       "    </tr>\n",
       "    <tr>\n",
       "      <th>13</th>\n",
       "      <td>cylindernumber_five</td>\n",
       "      <td>87.649528</td>\n",
       "    </tr>\n",
       "    <tr>\n",
       "      <th>14</th>\n",
       "      <td>carbody_sedan</td>\n",
       "      <td>78.699753</td>\n",
       "    </tr>\n",
       "    <tr>\n",
       "      <th>15</th>\n",
       "      <td>cylindernumber_twelve</td>\n",
       "      <td>57.309801</td>\n",
       "    </tr>\n",
       "    <tr>\n",
       "      <th>16</th>\n",
       "      <td>aspiration_turbo</td>\n",
       "      <td>13.375581</td>\n",
       "    </tr>\n",
       "    <tr>\n",
       "      <th>17</th>\n",
       "      <td>cylindernumber_two</td>\n",
       "      <td>4.368264</td>\n",
       "    </tr>\n",
       "    <tr>\n",
       "      <th>18</th>\n",
       "      <td>cylindernumber_three</td>\n",
       "      <td>0.000000</td>\n",
       "    </tr>\n",
       "    <tr>\n",
       "      <th>19</th>\n",
       "      <td>carheight</td>\n",
       "      <td>-9.649213</td>\n",
       "    </tr>\n",
       "    <tr>\n",
       "      <th>20</th>\n",
       "      <td>fueltype_gas</td>\n",
       "      <td>-129.844632</td>\n",
       "    </tr>\n",
       "    <tr>\n",
       "      <th>21</th>\n",
       "      <td>stroke</td>\n",
       "      <td>-351.211250</td>\n",
       "    </tr>\n",
       "    <tr>\n",
       "      <th>22</th>\n",
       "      <td>carbody_hatchback</td>\n",
       "      <td>-451.047364</td>\n",
       "    </tr>\n",
       "    <tr>\n",
       "      <th>23</th>\n",
       "      <td>citympg</td>\n",
       "      <td>-495.273123</td>\n",
       "    </tr>\n",
       "    <tr>\n",
       "      <th>24</th>\n",
       "      <td>highwaympg</td>\n",
       "      <td>-537.822710</td>\n",
       "    </tr>\n",
       "    <tr>\n",
       "      <th>25</th>\n",
       "      <td>carbody_wagon</td>\n",
       "      <td>-576.130746</td>\n",
       "    </tr>\n",
       "    <tr>\n",
       "      <th>26</th>\n",
       "      <td>cylindernumber_four</td>\n",
       "      <td>-1033.553121</td>\n",
       "    </tr>\n",
       "  </tbody>\n",
       "</table>\n",
       "</div>"
      ],
      "text/plain": [
       "                 Features       Scores\n",
       "0              enginesize  1403.347430\n",
       "1                carwidth  1013.262644\n",
       "2              horsepower   997.267325\n",
       "3              curbweight   961.875360\n",
       "4         carbody_hardtop   848.036148\n",
       "5               wheelbase   449.036598\n",
       "6               carlength   334.534228\n",
       "7               boreratio   326.374690\n",
       "8                 peakrpm   220.400167\n",
       "9          doornumber_two   209.115872\n",
       "10       compressionratio   185.946071\n",
       "11     cylindernumber_six   184.936936\n",
       "12              symboling   128.214886\n",
       "13    cylindernumber_five    87.649528\n",
       "14          carbody_sedan    78.699753\n",
       "15  cylindernumber_twelve    57.309801\n",
       "16       aspiration_turbo    13.375581\n",
       "17     cylindernumber_two     4.368264\n",
       "18   cylindernumber_three     0.000000\n",
       "19              carheight    -9.649213\n",
       "20           fueltype_gas  -129.844632\n",
       "21                 stroke  -351.211250\n",
       "22      carbody_hatchback  -451.047364\n",
       "23                citympg  -495.273123\n",
       "24             highwaympg  -537.822710\n",
       "25          carbody_wagon  -576.130746\n",
       "26    cylindernumber_four -1033.553121"
      ]
     },
     "execution_count": 33,
     "metadata": {},
     "output_type": "execute_result"
    }
   ],
   "source": [
    "# Feature Importance - Elastic-Net\n",
    "coefs4 = EN.coef_\n",
    "\n",
    "list_columns = X_train.columns\n",
    "list_feature = []\n",
    "list_score = []\n",
    "\n",
    "for i, v in enumerate(coefs4):\n",
    "    list_feature.append(list_columns[i])\n",
    "    list_score.append(v)\n",
    "\n",
    "dictionary4 = {'Features': list_feature,\n",
    "              'Scores': list_score}\n",
    "\n",
    "df_features4 = pd.DataFrame(dictionary4)\n",
    "df_features4 = df_features4.sort_values(by=['Scores'], ascending=False)\n",
    "df_features4.reset_index(inplace=True, drop=True)\n",
    "df_features4"
   ]
  },
  {
   "cell_type": "markdown",
   "metadata": {
    "pycharm": {
     "name": "#%% md\n"
    }
   },
   "source": [
    "Comparando as métricas para avaliar os modelos:"
   ]
  },
  {
   "cell_type": "code",
   "execution_count": 35,
   "metadata": {
    "pycharm": {
     "name": "#%%\n"
    }
   },
   "outputs": [
    {
     "name": "stdout",
     "output_type": "stream",
     "text": [
      "R2 - Regressão Linear:  0.7923\n",
      "R2 - Ridge:             0.7912\n",
      "R2 - Lasso:             0.7949\n",
      "R2 - Elastic-Net:       0.7291\n"
     ]
    }
   ],
   "source": [
    "# Comparando os R2s\n",
    "print('R2 - Regressão Linear: ', np.round(r2_score(y_test, y_pred_lr), 4))\n",
    "print('R2 - Ridge:            ', np.round(r2_score(y_test, y_pred_ridge), 4))\n",
    "print('R2 - Lasso:            ', np.round(r2_score(y_test, y_pred_lasso), 4))\n",
    "print('R2 - Elastic-Net:      ', np.round(r2_score(y_test, y_pred_EN), 4))"
   ]
  },
  {
   "cell_type": "code",
   "execution_count": 36,
   "metadata": {
    "pycharm": {
     "name": "#%%\n"
    }
   },
   "outputs": [
    {
     "name": "stdout",
     "output_type": "stream",
     "text": [
      "MSE - Regressão Linear:  14390119.8668\n",
      "MSE - Ridge:             14466383.1511\n",
      "MSE - Lasso:             14210201.8536\n",
      "MSE - Elastic-Net:       18770205.5038\n"
     ]
    }
   ],
   "source": [
    "# Comparando o MSE\n",
    "print('MSE - Regressão Linear: ', np.round(mean_squared_error(y_test, y_pred_lr), 4))\n",
    "print('MSE - Ridge:            ', np.round(mean_squared_error(y_test, y_pred_ridge), 4))\n",
    "print('MSE - Lasso:            ', np.round(mean_squared_error(y_test, y_pred_lasso), 4))\n",
    "print('MSE - Elastic-Net:      ', np.round(mean_squared_error(y_test, y_pred_EN), 4))"
   ]
  },
  {
   "cell_type": "code",
   "execution_count": 37,
   "metadata": {
    "pycharm": {
     "name": "#%%\n"
    }
   },
   "outputs": [
    {
     "name": "stdout",
     "output_type": "stream",
     "text": [
      "MAE - Regressão Linear:  2632.2202\n",
      "MAE - Ridge:             2638.6542\n",
      "MAE - Lasso:             2632.6767\n",
      "MAE - Elastic-Net:       3014.7481\n"
     ]
    }
   ],
   "source": [
    "# comparando o MAE\n",
    "print('MAE - Regressão Linear: ', np.round(mean_absolute_error(y_test, y_pred_lr), 4))\n",
    "print('MAE - Ridge:            ', np.round(mean_absolute_error(y_test, y_pred_ridge), 4))\n",
    "print('MAE - Lasso:            ', np.round(mean_absolute_error(y_test, y_pred_lasso), 4))\n",
    "print('MAE - Elastic-Net:      ', np.round(mean_absolute_error(y_test, y_pred_EN), 4))"
   ]
  },
  {
   "cell_type": "markdown",
   "metadata": {
    "pycharm": {
     "name": "#%% md\n"
    }
   },
   "source": [
    "## "
   ]
  },
  {
   "cell_type": "markdown",
   "metadata": {
    "pycharm": {
     "name": "#%% md\n"
    }
   },
   "source": [
    "## Exercícios"
   ]
  },
  {
   "cell_type": "markdown",
   "metadata": {
    "pycharm": {
     "name": "#%% md\n"
    }
   },
   "source": [
    "__1)__ Reavaliar o conjunto de dados para `Insurance.csv` e fazer o comparativo entre os modelos de regularização com a Regressão Linear."
   ]
  },
  {
   "cell_type": "code",
   "execution_count": 38,
   "metadata": {
    "pycharm": {
     "name": "#%%\n"
    }
   },
   "outputs": [
    {
     "data": {
      "text/html": [
       "<div>\n",
       "<style scoped>\n",
       "    .dataframe tbody tr th:only-of-type {\n",
       "        vertical-align: middle;\n",
       "    }\n",
       "\n",
       "    .dataframe tbody tr th {\n",
       "        vertical-align: top;\n",
       "    }\n",
       "\n",
       "    .dataframe thead th {\n",
       "        text-align: right;\n",
       "    }\n",
       "</style>\n",
       "<table border=\"1\" class=\"dataframe\">\n",
       "  <thead>\n",
       "    <tr style=\"text-align: right;\">\n",
       "      <th></th>\n",
       "      <th>age</th>\n",
       "      <th>sex</th>\n",
       "      <th>bmi</th>\n",
       "      <th>children</th>\n",
       "      <th>smoker</th>\n",
       "      <th>region</th>\n",
       "      <th>charges</th>\n",
       "    </tr>\n",
       "  </thead>\n",
       "  <tbody>\n",
       "    <tr>\n",
       "      <th>0</th>\n",
       "      <td>19</td>\n",
       "      <td>female</td>\n",
       "      <td>27.900</td>\n",
       "      <td>0</td>\n",
       "      <td>yes</td>\n",
       "      <td>southwest</td>\n",
       "      <td>16884.92400</td>\n",
       "    </tr>\n",
       "    <tr>\n",
       "      <th>1</th>\n",
       "      <td>18</td>\n",
       "      <td>male</td>\n",
       "      <td>33.770</td>\n",
       "      <td>1</td>\n",
       "      <td>no</td>\n",
       "      <td>southeast</td>\n",
       "      <td>1725.55230</td>\n",
       "    </tr>\n",
       "    <tr>\n",
       "      <th>2</th>\n",
       "      <td>28</td>\n",
       "      <td>male</td>\n",
       "      <td>33.000</td>\n",
       "      <td>3</td>\n",
       "      <td>no</td>\n",
       "      <td>southeast</td>\n",
       "      <td>4449.46200</td>\n",
       "    </tr>\n",
       "    <tr>\n",
       "      <th>3</th>\n",
       "      <td>33</td>\n",
       "      <td>male</td>\n",
       "      <td>22.705</td>\n",
       "      <td>0</td>\n",
       "      <td>no</td>\n",
       "      <td>northwest</td>\n",
       "      <td>21984.47061</td>\n",
       "    </tr>\n",
       "    <tr>\n",
       "      <th>4</th>\n",
       "      <td>32</td>\n",
       "      <td>male</td>\n",
       "      <td>28.880</td>\n",
       "      <td>0</td>\n",
       "      <td>no</td>\n",
       "      <td>northwest</td>\n",
       "      <td>3866.85520</td>\n",
       "    </tr>\n",
       "  </tbody>\n",
       "</table>\n",
       "</div>"
      ],
      "text/plain": [
       "   age     sex     bmi  children smoker     region      charges\n",
       "0   19  female  27.900         0    yes  southwest  16884.92400\n",
       "1   18    male  33.770         1     no  southeast   1725.55230\n",
       "2   28    male  33.000         3     no  southeast   4449.46200\n",
       "3   33    male  22.705         0     no  northwest  21984.47061\n",
       "4   32    male  28.880         0     no  northwest   3866.85520"
      ]
     },
     "execution_count": 38,
     "metadata": {},
     "output_type": "execute_result"
    }
   ],
   "source": [
    "# Carrega os dados\n",
    "insurance = pd.read_csv('insurance.csv')\n",
    "\n",
    "# Mostra as primeiras linhas\n",
    "insurance.head()"
   ]
  },
  {
   "cell_type": "code",
   "execution_count": 39,
   "metadata": {
    "pycharm": {
     "name": "#%%\n"
    }
   },
   "outputs": [],
   "source": [
    "# Aplica um get dummies para lidar com as variaveis categoricas\n",
    "ins_dummies = pd.get_dummies(insurance,\n",
    "                             columns = ['sex',\n",
    "                                        'smoker',\n",
    "                                        'region'],\n",
    "                             drop_first = True)"
   ]
  },
  {
   "cell_type": "code",
   "execution_count": 41,
   "metadata": {
    "pycharm": {
     "name": "#%%\n"
    }
   },
   "outputs": [
    {
     "data": {
      "text/html": [
       "<div>\n",
       "<style scoped>\n",
       "    .dataframe tbody tr th:only-of-type {\n",
       "        vertical-align: middle;\n",
       "    }\n",
       "\n",
       "    .dataframe tbody tr th {\n",
       "        vertical-align: top;\n",
       "    }\n",
       "\n",
       "    .dataframe thead th {\n",
       "        text-align: right;\n",
       "    }\n",
       "</style>\n",
       "<table border=\"1\" class=\"dataframe\">\n",
       "  <thead>\n",
       "    <tr style=\"text-align: right;\">\n",
       "      <th></th>\n",
       "      <th>age</th>\n",
       "      <th>bmi</th>\n",
       "      <th>children</th>\n",
       "      <th>charges</th>\n",
       "      <th>sex_male</th>\n",
       "      <th>smoker_yes</th>\n",
       "      <th>region_northwest</th>\n",
       "      <th>region_southeast</th>\n",
       "      <th>region_southwest</th>\n",
       "    </tr>\n",
       "  </thead>\n",
       "  <tbody>\n",
       "    <tr>\n",
       "      <th>0</th>\n",
       "      <td>19</td>\n",
       "      <td>27.900</td>\n",
       "      <td>0</td>\n",
       "      <td>16884.92400</td>\n",
       "      <td>0</td>\n",
       "      <td>1</td>\n",
       "      <td>0</td>\n",
       "      <td>0</td>\n",
       "      <td>1</td>\n",
       "    </tr>\n",
       "    <tr>\n",
       "      <th>1</th>\n",
       "      <td>18</td>\n",
       "      <td>33.770</td>\n",
       "      <td>1</td>\n",
       "      <td>1725.55230</td>\n",
       "      <td>1</td>\n",
       "      <td>0</td>\n",
       "      <td>0</td>\n",
       "      <td>1</td>\n",
       "      <td>0</td>\n",
       "    </tr>\n",
       "    <tr>\n",
       "      <th>2</th>\n",
       "      <td>28</td>\n",
       "      <td>33.000</td>\n",
       "      <td>3</td>\n",
       "      <td>4449.46200</td>\n",
       "      <td>1</td>\n",
       "      <td>0</td>\n",
       "      <td>0</td>\n",
       "      <td>1</td>\n",
       "      <td>0</td>\n",
       "    </tr>\n",
       "    <tr>\n",
       "      <th>3</th>\n",
       "      <td>33</td>\n",
       "      <td>22.705</td>\n",
       "      <td>0</td>\n",
       "      <td>21984.47061</td>\n",
       "      <td>1</td>\n",
       "      <td>0</td>\n",
       "      <td>1</td>\n",
       "      <td>0</td>\n",
       "      <td>0</td>\n",
       "    </tr>\n",
       "    <tr>\n",
       "      <th>4</th>\n",
       "      <td>32</td>\n",
       "      <td>28.880</td>\n",
       "      <td>0</td>\n",
       "      <td>3866.85520</td>\n",
       "      <td>1</td>\n",
       "      <td>0</td>\n",
       "      <td>1</td>\n",
       "      <td>0</td>\n",
       "      <td>0</td>\n",
       "    </tr>\n",
       "  </tbody>\n",
       "</table>\n",
       "</div>"
      ],
      "text/plain": [
       "   age     bmi  children      charges  sex_male  smoker_yes  region_northwest  \\\n",
       "0   19  27.900         0  16884.92400         0           1                 0   \n",
       "1   18  33.770         1   1725.55230         1           0                 0   \n",
       "2   28  33.000         3   4449.46200         1           0                 0   \n",
       "3   33  22.705         0  21984.47061         1           0                 1   \n",
       "4   32  28.880         0   3866.85520         1           0                 1   \n",
       "\n",
       "   region_southeast  region_southwest  \n",
       "0                 0                 1  \n",
       "1                 1                 0  \n",
       "2                 1                 0  \n",
       "3                 0                 0  \n",
       "4                 0                 0  "
      ]
     },
     "execution_count": 41,
     "metadata": {},
     "output_type": "execute_result"
    }
   ],
   "source": [
    "# Mostra as primeiras linhas\n",
    "ins_dummies.head()"
   ]
  },
  {
   "cell_type": "code",
   "execution_count": null,
   "metadata": {
    "pycharm": {
     "name": "#%%\n",
     "is_executing": true
    }
   },
   "outputs": [],
   "source": [
    "# Algumas estatísticas\n",
    "ins_dummies.describe().T.style.background_gradient(cmap = 'PuBu')"
   ]
  },
  {
   "cell_type": "code",
   "execution_count": 44,
   "metadata": {
    "pycharm": {
     "name": "#%%\n"
    }
   },
   "outputs": [
    {
     "data": {
      "image/png": "[encoded data removed]",
      "text/plain": [
       "<Figure size 432x432 with 3 Axes>"
      ]
     },
     "metadata": {
      "needs_background": "light"
     },
     "output_type": "display_data"
    }
   ],
   "source": [
    "# Gráfico da Idade pelo Charges\n",
    "sns.jointplot(x = 'age',\n",
    "              y = 'charges',\n",
    "              data = ins_dummies)\n",
    "\n",
    "plt.show()"
   ]
  },
  {
   "cell_type": "code",
   "execution_count": 45,
   "metadata": {
    "pycharm": {
     "name": "#%%\n"
    }
   },
   "outputs": [],
   "source": [
    "# Separando em X e y\n",
    "X = ins_dummies.drop(['charges'], axis = 1)\n",
    "y = ins_dummies['charges']"
   ]
  },
  {
   "cell_type": "code",
   "execution_count": 46,
   "metadata": {
    "pycharm": {
     "name": "#%%\n"
    }
   },
   "outputs": [],
   "source": [
    "# Separando treino e teste\n",
    "X_train, X_test, y_train, y_test = train_test_split(X,\n",
    "                                                    y,\n",
    "                                                    test_size = 0.3,\n",
    "                                                    random_state = 42)"
   ]
  },
  {
   "cell_type": "code",
   "execution_count": 47,
   "metadata": {
    "pycharm": {
     "name": "#%%\n"
    }
   },
   "outputs": [],
   "source": [
    "# instanciar a normalização\n",
    "scaler = StandardScaler()\n",
    "\n",
    "# Normalização\n",
    "X_train_std = scaler.fit_transform(X_train)\n",
    "X_test_std  = scaler.transform(X_test)"
   ]
  },
  {
   "cell_type": "code",
   "execution_count": 51,
   "metadata": {
    "pycharm": {
     "name": "#%%\n"
    }
   },
   "outputs": [
    {
     "data": {
      "text/plain": [
       "Index(['age', 'bmi', 'children', 'sex_male', 'smoker_yes', 'region_northwest',\n",
       "       'region_southeast', 'region_southwest'],\n",
       "      dtype='object')"
      ]
     },
     "execution_count": 51,
     "metadata": {},
     "output_type": "execute_result"
    }
   ],
   "source": [
    "X.columns"
   ]
  },
  {
   "cell_type": "code",
   "execution_count": 52,
   "metadata": {
    "pycharm": {
     "name": "#%%\n"
    }
   },
   "outputs": [
    {
     "data": {
      "text/html": [
       "<div>\n",
       "<style scoped>\n",
       "    .dataframe tbody tr th:only-of-type {\n",
       "        vertical-align: middle;\n",
       "    }\n",
       "\n",
       "    .dataframe tbody tr th {\n",
       "        vertical-align: top;\n",
       "    }\n",
       "\n",
       "    .dataframe thead th {\n",
       "        text-align: right;\n",
       "    }\n",
       "</style>\n",
       "<table border=\"1\" class=\"dataframe\">\n",
       "  <thead>\n",
       "    <tr style=\"text-align: right;\">\n",
       "      <th></th>\n",
       "      <th>age</th>\n",
       "      <th>bmi</th>\n",
       "      <th>children</th>\n",
       "      <th>sex_male</th>\n",
       "      <th>smoker_yes</th>\n",
       "      <th>region_northwest</th>\n",
       "      <th>region_southeast</th>\n",
       "      <th>region_southwest</th>\n",
       "    </tr>\n",
       "  </thead>\n",
       "  <tbody>\n",
       "    <tr>\n",
       "      <th>0</th>\n",
       "      <td>1.544465</td>\n",
       "      <td>0.103182</td>\n",
       "      <td>-0.915011</td>\n",
       "      <td>-1.025978</td>\n",
       "      <td>-0.512989</td>\n",
       "      <td>1.757082</td>\n",
       "      <td>-0.593802</td>\n",
       "      <td>-0.557606</td>\n",
       "    </tr>\n",
       "    <tr>\n",
       "      <th>1</th>\n",
       "      <td>0.481874</td>\n",
       "      <td>-0.490845</td>\n",
       "      <td>-0.915011</td>\n",
       "      <td>0.974679</td>\n",
       "      <td>-0.512989</td>\n",
       "      <td>-0.569125</td>\n",
       "      <td>-0.593802</td>\n",
       "      <td>1.793381</td>\n",
       "    </tr>\n",
       "    <tr>\n",
       "      <th>2</th>\n",
       "      <td>1.048589</td>\n",
       "      <td>0.226660</td>\n",
       "      <td>1.560279</td>\n",
       "      <td>-1.025978</td>\n",
       "      <td>-0.512989</td>\n",
       "      <td>-0.569125</td>\n",
       "      <td>1.684062</td>\n",
       "      <td>-0.557606</td>\n",
       "    </tr>\n",
       "    <tr>\n",
       "      <th>3</th>\n",
       "      <td>1.119429</td>\n",
       "      <td>0.023923</td>\n",
       "      <td>-0.915011</td>\n",
       "      <td>0.974679</td>\n",
       "      <td>1.949359</td>\n",
       "      <td>-0.569125</td>\n",
       "      <td>-0.593802</td>\n",
       "      <td>-0.557606</td>\n",
       "    </tr>\n",
       "    <tr>\n",
       "      <th>4</th>\n",
       "      <td>-1.005753</td>\n",
       "      <td>2.502650</td>\n",
       "      <td>0.735182</td>\n",
       "      <td>0.974679</td>\n",
       "      <td>1.949359</td>\n",
       "      <td>-0.569125</td>\n",
       "      <td>1.684062</td>\n",
       "      <td>-0.557606</td>\n",
       "    </tr>\n",
       "  </tbody>\n",
       "</table>\n",
       "</div>"
      ],
      "text/plain": [
       "        age       bmi  children  sex_male  smoker_yes  region_northwest  \\\n",
       "0  1.544465  0.103182 -0.915011 -1.025978   -0.512989          1.757082   \n",
       "1  0.481874 -0.490845 -0.915011  0.974679   -0.512989         -0.569125   \n",
       "2  1.048589  0.226660  1.560279 -1.025978   -0.512989         -0.569125   \n",
       "3  1.119429  0.023923 -0.915011  0.974679    1.949359         -0.569125   \n",
       "4 -1.005753  2.502650  0.735182  0.974679    1.949359         -0.569125   \n",
       "\n",
       "   region_southeast  region_southwest  \n",
       "0         -0.593802         -0.557606  \n",
       "1         -0.593802          1.793381  \n",
       "2          1.684062         -0.557606  \n",
       "3         -0.593802         -0.557606  \n",
       "4          1.684062         -0.557606  "
      ]
     },
     "execution_count": 52,
     "metadata": {},
     "output_type": "execute_result"
    }
   ],
   "source": [
    "df = pd.DataFrame(X_train_std, columns = ['age', \n",
    "                                          'bmi', \n",
    "                                          'children', \n",
    "                                          'sex_male', \n",
    "                                          'smoker_yes', \n",
    "                                          'region_northwest',\n",
    "                                          'region_southeast', \n",
    "                                          'region_southwest'])\n",
    "\n",
    "df.head()"
   ]
  },
  {
   "cell_type": "code",
   "execution_count": 53,
   "metadata": {
    "pycharm": {
     "name": "#%%\n"
    }
   },
   "outputs": [
    {
     "data": {
      "text/html": [
       "<style type=\"text/css\">\n",
       "#T_89d79_row0_col0, #T_89d79_row1_col0, #T_89d79_row1_col3, #T_89d79_row2_col0, #T_89d79_row3_col0, #T_89d79_row3_col4, #T_89d79_row3_col7, #T_89d79_row4_col0, #T_89d79_row5_col0, #T_89d79_row5_col1, #T_89d79_row5_col6, #T_89d79_row6_col0, #T_89d79_row6_col2, #T_89d79_row6_col5, #T_89d79_row7_col0 {\n",
       "  background-color: #fff7fb;\n",
       "  color: #000000;\n",
       "}\n",
       "#T_89d79_row0_col1 {\n",
       "  background-color: #ced0e6;\n",
       "  color: #000000;\n",
       "}\n",
       "#T_89d79_row0_col2 {\n",
       "  background-color: #65a3cb;\n",
       "  color: #f1f1f1;\n",
       "}\n",
       "#T_89d79_row0_col3 {\n",
       "  background-color: #79abd0;\n",
       "  color: #f1f1f1;\n",
       "}\n",
       "#T_89d79_row0_col4 {\n",
       "  background-color: #bbc7e0;\n",
       "  color: #000000;\n",
       "}\n",
       "#T_89d79_row0_col5 {\n",
       "  background-color: #a8bedc;\n",
       "  color: #000000;\n",
       "}\n",
       "#T_89d79_row0_col6, #T_89d79_row5_col2 {\n",
       "  background-color: #2a88bc;\n",
       "  color: #f1f1f1;\n",
       "}\n",
       "#T_89d79_row0_col7, #T_89d79_row5_col7 {\n",
       "  background-color: #c6cce3;\n",
       "  color: #000000;\n",
       "}\n",
       "#T_89d79_row1_col1 {\n",
       "  background-color: #03466e;\n",
       "  color: #f1f1f1;\n",
       "}\n",
       "#T_89d79_row1_col2 {\n",
       "  background-color: #3d93c2;\n",
       "  color: #f1f1f1;\n",
       "}\n",
       "#T_89d79_row1_col4 {\n",
       "  background-color: #4496c3;\n",
       "  color: #f1f1f1;\n",
       "}\n",
       "#T_89d79_row1_col5 {\n",
       "  background-color: #b1c2de;\n",
       "  color: #000000;\n",
       "}\n",
       "#T_89d79_row1_col6 {\n",
       "  background-color: #60a1ca;\n",
       "  color: #f1f1f1;\n",
       "}\n",
       "#T_89d79_row1_col7, #T_89d79_row3_col2, #T_89d79_row3_col5, #T_89d79_row4_col3, #T_89d79_row4_col4, #T_89d79_row6_col6, #T_89d79_row7_col1 {\n",
       "  background-color: #023858;\n",
       "  color: #f1f1f1;\n",
       "}\n",
       "#T_89d79_row2_col1 {\n",
       "  background-color: #a7bddb;\n",
       "  color: #000000;\n",
       "}\n",
       "#T_89d79_row2_col2 {\n",
       "  background-color: #f9f2f8;\n",
       "  color: #000000;\n",
       "}\n",
       "#T_89d79_row2_col3 {\n",
       "  background-color: #0569a4;\n",
       "  color: #f1f1f1;\n",
       "}\n",
       "#T_89d79_row2_col4 {\n",
       "  background-color: #d8d7e9;\n",
       "  color: #000000;\n",
       "}\n",
       "#T_89d79_row2_col5 {\n",
       "  background-color: #b8c6e0;\n",
       "  color: #000000;\n",
       "}\n",
       "#T_89d79_row2_col6 {\n",
       "  background-color: #4c99c5;\n",
       "  color: #f1f1f1;\n",
       "}\n",
       "#T_89d79_row2_col7 {\n",
       "  background-color: #0567a2;\n",
       "  color: #f1f1f1;\n",
       "}\n",
       "#T_89d79_row3_col1 {\n",
       "  background-color: #93b5d6;\n",
       "  color: #000000;\n",
       "}\n",
       "#T_89d79_row3_col3 {\n",
       "  background-color: #0c74b2;\n",
       "  color: #f1f1f1;\n",
       "}\n",
       "#T_89d79_row3_col6 {\n",
       "  background-color: #1e80b8;\n",
       "  color: #f1f1f1;\n",
       "}\n",
       "#T_89d79_row4_col1 {\n",
       "  background-color: #d3d4e7;\n",
       "  color: #000000;\n",
       "}\n",
       "#T_89d79_row4_col2 {\n",
       "  background-color: #1379b5;\n",
       "  color: #f1f1f1;\n",
       "}\n",
       "#T_89d79_row4_col5 {\n",
       "  background-color: #f7f0f7;\n",
       "  color: #000000;\n",
       "}\n",
       "#T_89d79_row4_col6 {\n",
       "  background-color: #fbf4f9;\n",
       "  color: #000000;\n",
       "}\n",
       "#T_89d79_row4_col7 {\n",
       "  background-color: #afc1dd;\n",
       "  color: #000000;\n",
       "}\n",
       "#T_89d79_row5_col3 {\n",
       "  background-color: #023f64;\n",
       "  color: #f1f1f1;\n",
       "}\n",
       "#T_89d79_row5_col4 {\n",
       "  background-color: #045687;\n",
       "  color: #f1f1f1;\n",
       "}\n",
       "#T_89d79_row5_col5 {\n",
       "  background-color: #fdf5fa;\n",
       "  color: #000000;\n",
       "}\n",
       "#T_89d79_row6_col1 {\n",
       "  background-color: #bfc9e1;\n",
       "  color: #000000;\n",
       "}\n",
       "#T_89d79_row6_col3 {\n",
       "  background-color: #034369;\n",
       "  color: #f1f1f1;\n",
       "}\n",
       "#T_89d79_row6_col4 {\n",
       "  background-color: #046096;\n",
       "  color: #f1f1f1;\n",
       "}\n",
       "#T_89d79_row6_col7 {\n",
       "  background-color: #d0d1e6;\n",
       "  color: #000000;\n",
       "}\n",
       "#T_89d79_row7_col2 {\n",
       "  background-color: #045483;\n",
       "  color: #f1f1f1;\n",
       "}\n",
       "#T_89d79_row7_col3 {\n",
       "  background-color: #023d60;\n",
       "  color: #f1f1f1;\n",
       "}\n",
       "#T_89d79_row7_col4 {\n",
       "  background-color: #034f7d;\n",
       "  color: #f1f1f1;\n",
       "}\n",
       "#T_89d79_row7_col5 {\n",
       "  background-color: #fcf4fa;\n",
       "  color: #000000;\n",
       "}\n",
       "#T_89d79_row7_col6 {\n",
       "  background-color: #fef6fb;\n",
       "  color: #000000;\n",
       "}\n",
       "#T_89d79_row7_col7 {\n",
       "  background-color: #c1cae2;\n",
       "  color: #000000;\n",
       "}\n",
       "</style>\n",
       "<table id=\"T_89d79\">\n",
       "  <thead>\n",
       "    <tr>\n",
       "      <th class=\"blank level0\" >&nbsp;</th>\n",
       "      <th id=\"T_89d79_level0_col0\" class=\"col_heading level0 col0\" >count</th>\n",
       "      <th id=\"T_89d79_level0_col1\" class=\"col_heading level0 col1\" >mean</th>\n",
       "      <th id=\"T_89d79_level0_col2\" class=\"col_heading level0 col2\" >std</th>\n",
       "      <th id=\"T_89d79_level0_col3\" class=\"col_heading level0 col3\" >min</th>\n",
       "      <th id=\"T_89d79_level0_col4\" class=\"col_heading level0 col4\" >25%</th>\n",
       "      <th id=\"T_89d79_level0_col5\" class=\"col_heading level0 col5\" >50%</th>\n",
       "      <th id=\"T_89d79_level0_col6\" class=\"col_heading level0 col6\" >75%</th>\n",
       "      <th id=\"T_89d79_level0_col7\" class=\"col_heading level0 col7\" >max</th>\n",
       "    </tr>\n",
       "  </thead>\n",
       "  <tbody>\n",
       "    <tr>\n",
       "      <th id=\"T_89d79_level0_row0\" class=\"row_heading level0 row0\" >age</th>\n",
       "      <td id=\"T_89d79_row0_col0\" class=\"data row0 col0\" >936.000000</td>\n",
       "      <td id=\"T_89d79_row0_col1\" class=\"data row0 col1\" >-0.000000</td>\n",
       "      <td id=\"T_89d79_row0_col2\" class=\"data row0 col2\" >1.000535</td>\n",
       "      <td id=\"T_89d79_row0_col3\" class=\"data row0 col3\" >-1.501628</td>\n",
       "      <td id=\"T_89d79_row0_col4\" class=\"data row0 col4\" >-0.864074</td>\n",
       "      <td id=\"T_89d79_row0_col5\" class=\"data row0 col5\" >-0.014001</td>\n",
       "      <td id=\"T_89d79_row0_col6\" class=\"data row0 col6\" >0.906910</td>\n",
       "      <td id=\"T_89d79_row0_col7\" class=\"data row0 col7\" >1.756983</td>\n",
       "    </tr>\n",
       "    <tr>\n",
       "      <th id=\"T_89d79_level0_row1\" class=\"row_heading level0 row1\" >bmi</th>\n",
       "      <td id=\"T_89d79_row1_col0\" class=\"data row1 col0\" >936.000000</td>\n",
       "      <td id=\"T_89d79_row1_col1\" class=\"data row1 col1\" >0.000000</td>\n",
       "      <td id=\"T_89d79_row1_col2\" class=\"data row1 col2\" >1.000535</td>\n",
       "      <td id=\"T_89d79_row1_col3\" class=\"data row1 col3\" >-2.433112</td>\n",
       "      <td id=\"T_89d79_row1_col4\" class=\"data row1 col4\" >-0.721113</td>\n",
       "      <td id=\"T_89d79_row1_col5\" class=\"data row1 col5\" >-0.055336</td>\n",
       "      <td id=\"T_89d79_row1_col6\" class=\"data row1 col6\" >0.651113</td>\n",
       "      <td id=\"T_89d79_row1_col7\" class=\"data row1 col7\" >3.769128</td>\n",
       "    </tr>\n",
       "    <tr>\n",
       "      <th id=\"T_89d79_level0_row2\" class=\"row_heading level0 row2\" >children</th>\n",
       "      <td id=\"T_89d79_row2_col0\" class=\"data row2 col0\" >936.000000</td>\n",
       "      <td id=\"T_89d79_row2_col1\" class=\"data row2 col1\" >0.000000</td>\n",
       "      <td id=\"T_89d79_row2_col2\" class=\"data row2 col2\" >1.000535</td>\n",
       "      <td id=\"T_89d79_row2_col3\" class=\"data row2 col3\" >-0.915011</td>\n",
       "      <td id=\"T_89d79_row2_col4\" class=\"data row2 col4\" >-0.915011</td>\n",
       "      <td id=\"T_89d79_row2_col5\" class=\"data row2 col5\" >-0.089914</td>\n",
       "      <td id=\"T_89d79_row2_col6\" class=\"data row2 col6\" >0.735182</td>\n",
       "      <td id=\"T_89d79_row2_col7\" class=\"data row2 col7\" >3.210472</td>\n",
       "    </tr>\n",
       "    <tr>\n",
       "      <th id=\"T_89d79_level0_row3\" class=\"row_heading level0 row3\" >sex_male</th>\n",
       "      <td id=\"T_89d79_row3_col0\" class=\"data row3 col0\" >936.000000</td>\n",
       "      <td id=\"T_89d79_row3_col1\" class=\"data row3 col1\" >0.000000</td>\n",
       "      <td id=\"T_89d79_row3_col2\" class=\"data row3 col2\" >1.000535</td>\n",
       "      <td id=\"T_89d79_row3_col3\" class=\"data row3 col3\" >-1.025978</td>\n",
       "      <td id=\"T_89d79_row3_col4\" class=\"data row3 col4\" >-1.025978</td>\n",
       "      <td id=\"T_89d79_row3_col5\" class=\"data row3 col5\" >0.974679</td>\n",
       "      <td id=\"T_89d79_row3_col6\" class=\"data row3 col6\" >0.974679</td>\n",
       "      <td id=\"T_89d79_row3_col7\" class=\"data row3 col7\" >0.974679</td>\n",
       "    </tr>\n",
       "    <tr>\n",
       "      <th id=\"T_89d79_level0_row4\" class=\"row_heading level0 row4\" >smoker_yes</th>\n",
       "      <td id=\"T_89d79_row4_col0\" class=\"data row4 col0\" >936.000000</td>\n",
       "      <td id=\"T_89d79_row4_col1\" class=\"data row4 col1\" >-0.000000</td>\n",
       "      <td id=\"T_89d79_row4_col2\" class=\"data row4 col2\" >1.000535</td>\n",
       "      <td id=\"T_89d79_row4_col3\" class=\"data row4 col3\" >-0.512989</td>\n",
       "      <td id=\"T_89d79_row4_col4\" class=\"data row4 col4\" >-0.512989</td>\n",
       "      <td id=\"T_89d79_row4_col5\" class=\"data row4 col5\" >-0.512989</td>\n",
       "      <td id=\"T_89d79_row4_col6\" class=\"data row4 col6\" >-0.512989</td>\n",
       "      <td id=\"T_89d79_row4_col7\" class=\"data row4 col7\" >1.949359</td>\n",
       "    </tr>\n",
       "    <tr>\n",
       "      <th id=\"T_89d79_level0_row5\" class=\"row_heading level0 row5\" >region_northwest</th>\n",
       "      <td id=\"T_89d79_row5_col0\" class=\"data row5 col0\" >936.000000</td>\n",
       "      <td id=\"T_89d79_row5_col1\" class=\"data row5 col1\" >-0.000000</td>\n",
       "      <td id=\"T_89d79_row5_col2\" class=\"data row5 col2\" >1.000535</td>\n",
       "      <td id=\"T_89d79_row5_col3\" class=\"data row5 col3\" >-0.569125</td>\n",
       "      <td id=\"T_89d79_row5_col4\" class=\"data row5 col4\" >-0.569125</td>\n",
       "      <td id=\"T_89d79_row5_col5\" class=\"data row5 col5\" >-0.569125</td>\n",
       "      <td id=\"T_89d79_row5_col6\" class=\"data row5 col6\" >-0.569125</td>\n",
       "      <td id=\"T_89d79_row5_col7\" class=\"data row5 col7\" >1.757082</td>\n",
       "    </tr>\n",
       "    <tr>\n",
       "      <th id=\"T_89d79_level0_row6\" class=\"row_heading level0 row6\" >region_southeast</th>\n",
       "      <td id=\"T_89d79_row6_col0\" class=\"data row6 col0\" >936.000000</td>\n",
       "      <td id=\"T_89d79_row6_col1\" class=\"data row6 col1\" >-0.000000</td>\n",
       "      <td id=\"T_89d79_row6_col2\" class=\"data row6 col2\" >1.000535</td>\n",
       "      <td id=\"T_89d79_row6_col3\" class=\"data row6 col3\" >-0.593802</td>\n",
       "      <td id=\"T_89d79_row6_col4\" class=\"data row6 col4\" >-0.593802</td>\n",
       "      <td id=\"T_89d79_row6_col5\" class=\"data row6 col5\" >-0.593802</td>\n",
       "      <td id=\"T_89d79_row6_col6\" class=\"data row6 col6\" >1.684062</td>\n",
       "      <td id=\"T_89d79_row6_col7\" class=\"data row6 col7\" >1.684062</td>\n",
       "    </tr>\n",
       "    <tr>\n",
       "      <th id=\"T_89d79_level0_row7\" class=\"row_heading level0 row7\" >region_southwest</th>\n",
       "      <td id=\"T_89d79_row7_col0\" class=\"data row7 col0\" >936.000000</td>\n",
       "      <td id=\"T_89d79_row7_col1\" class=\"data row7 col1\" >0.000000</td>\n",
       "      <td id=\"T_89d79_row7_col2\" class=\"data row7 col2\" >1.000535</td>\n",
       "      <td id=\"T_89d79_row7_col3\" class=\"data row7 col3\" >-0.557606</td>\n",
       "      <td id=\"T_89d79_row7_col4\" class=\"data row7 col4\" >-0.557606</td>\n",
       "      <td id=\"T_89d79_row7_col5\" class=\"data row7 col5\" >-0.557606</td>\n",
       "      <td id=\"T_89d79_row7_col6\" class=\"data row7 col6\" >-0.557606</td>\n",
       "      <td id=\"T_89d79_row7_col7\" class=\"data row7 col7\" >1.793381</td>\n",
       "    </tr>\n",
       "  </tbody>\n",
       "</table>\n"
      ],
      "text/plain": [
       "<pandas.io.formats.style.Styler at 0x21f6350edf0>"
      ]
     },
     "execution_count": 53,
     "metadata": {},
     "output_type": "execute_result"
    }
   ],
   "source": [
    "df.describe().T.style.background_gradient(cmap = 'PuBu')"
   ]
  },
  {
   "cell_type": "code",
   "execution_count": 48,
   "metadata": {
    "pycharm": {
     "name": "#%%\n"
    }
   },
   "outputs": [],
   "source": [
    "# Instancia o modelo\n",
    "linreg = LinearRegression()"
   ]
  },
  {
   "cell_type": "code",
   "execution_count": 49,
   "metadata": {
    "pycharm": {
     "name": "#%%\n"
    }
   },
   "outputs": [
    {
     "data": {
      "text/plain": [
       "LinearRegression()"
      ]
     },
     "execution_count": 49,
     "metadata": {},
     "output_type": "execute_result"
    }
   ],
   "source": [
    "# Treinamento do modelo\n",
    "linreg.fit(X_train_std, y_train)"
   ]
  },
  {
   "cell_type": "code",
   "execution_count": null,
   "metadata": {
    "pycharm": {
     "name": "#%%\n"
    }
   },
   "outputs": [],
   "source": []
  },
  {
   "cell_type": "code",
   "execution_count": null,
   "metadata": {
    "pycharm": {
     "name": "#%%\n"
    }
   },
   "outputs": [],
   "source": []
  },
  {
   "cell_type": "code",
   "execution_count": null,
   "metadata": {
    "pycharm": {
     "name": "#%%\n"
    }
   },
   "outputs": [],
   "source": []
  },
  {
   "cell_type": "markdown",
   "metadata": {
    "pycharm": {
     "name": "#%% md\n"
    }
   },
   "source": [
    "__2)__ Reavaliar o conjunto de dados para `Admission_Predict.csv` e fazer o comparativo entre os modelos de regularização com a Regressão Linear."
   ]
  },
  {
   "cell_type": "code",
   "execution_count": null,
   "metadata": {
    "pycharm": {
     "name": "#%%\n"
    }
   },
   "outputs": [],
   "source": []
  },
  {
   "cell_type": "code",
   "execution_count": null,
   "metadata": {
    "pycharm": {
     "name": "#%%\n"
    }
   },
   "outputs": [],
   "source": []
  },
  {
   "cell_type": "code",
   "execution_count": null,
   "metadata": {
    "pycharm": {
     "name": "#%%\n"
    }
   },
   "outputs": [],
   "source": []
  },
  {
   "cell_type": "markdown",
   "metadata": {
    "pycharm": {
     "name": "#%% md\n"
    }
   },
   "source": [
    "__3)__ Reavaliar o conjunto de dados para `usa_housing.csv` e fazer o comparativo entre os modelos de regularização com a Regressão Linear."
   ]
  },
  {
   "cell_type": "code",
   "execution_count": null,
   "metadata": {
    "pycharm": {
     "name": "#%%\n"
    }
   },
   "outputs": [],
   "source": []
  },
  {
   "cell_type": "code",
   "execution_count": null,
   "metadata": {
    "pycharm": {
     "name": "#%%\n"
    }
   },
   "outputs": [],
   "source": []
  },
  {
   "cell_type": "code",
   "execution_count": null,
   "metadata": {
    "pycharm": {
     "name": "#%%\n"
    }
   },
   "outputs": [],
   "source": []
  },
  {
   "cell_type": "markdown",
   "metadata": {
    "pycharm": {
     "name": "#%% md\n"
    }
   },
   "source": [
    "__4)__ Utilizando o dataset `penguins` e a partir dos modelos de Regressão e regularização, desenvolva uma regressão para determinar o valor da massa corporal dos pinguins (`body_mass_g`)"
   ]
  },
  {
   "cell_type": "code",
   "execution_count": 1,
   "metadata": {
    "pycharm": {
     "name": "#%%\n"
    }
   },
   "outputs": [],
   "source": [
    "import pandas as pd\n",
    "import seaborn as sns"
   ]
  },
  {
   "cell_type": "code",
   "execution_count": 3,
   "metadata": {
    "pycharm": {
     "name": "#%%\n"
    }
   },
   "outputs": [
    {
     "data": {
      "text/html": [
       "<div>\n",
       "<style scoped>\n",
       "    .dataframe tbody tr th:only-of-type {\n",
       "        vertical-align: middle;\n",
       "    }\n",
       "\n",
       "    .dataframe tbody tr th {\n",
       "        vertical-align: top;\n",
       "    }\n",
       "\n",
       "    .dataframe thead th {\n",
       "        text-align: right;\n",
       "    }\n",
       "</style>\n",
       "<table border=\"1\" class=\"dataframe\">\n",
       "  <thead>\n",
       "    <tr style=\"text-align: right;\">\n",
       "      <th></th>\n",
       "      <th>species</th>\n",
       "      <th>island</th>\n",
       "      <th>bill_length_mm</th>\n",
       "      <th>bill_depth_mm</th>\n",
       "      <th>flipper_length_mm</th>\n",
       "      <th>body_mass_g</th>\n",
       "      <th>sex</th>\n",
       "    </tr>\n",
       "  </thead>\n",
       "  <tbody>\n",
       "    <tr>\n",
       "      <th>0</th>\n",
       "      <td>Adelie</td>\n",
       "      <td>Torgersen</td>\n",
       "      <td>39.1</td>\n",
       "      <td>18.7</td>\n",
       "      <td>181.0</td>\n",
       "      <td>3750.0</td>\n",
       "      <td>Male</td>\n",
       "    </tr>\n",
       "    <tr>\n",
       "      <th>1</th>\n",
       "      <td>Adelie</td>\n",
       "      <td>Torgersen</td>\n",
       "      <td>39.5</td>\n",
       "      <td>17.4</td>\n",
       "      <td>186.0</td>\n",
       "      <td>3800.0</td>\n",
       "      <td>Female</td>\n",
       "    </tr>\n",
       "    <tr>\n",
       "      <th>2</th>\n",
       "      <td>Adelie</td>\n",
       "      <td>Torgersen</td>\n",
       "      <td>40.3</td>\n",
       "      <td>18.0</td>\n",
       "      <td>195.0</td>\n",
       "      <td>3250.0</td>\n",
       "      <td>Female</td>\n",
       "    </tr>\n",
       "    <tr>\n",
       "      <th>3</th>\n",
       "      <td>Adelie</td>\n",
       "      <td>Torgersen</td>\n",
       "      <td>NaN</td>\n",
       "      <td>NaN</td>\n",
       "      <td>NaN</td>\n",
       "      <td>NaN</td>\n",
       "      <td>NaN</td>\n",
       "    </tr>\n",
       "    <tr>\n",
       "      <th>4</th>\n",
       "      <td>Adelie</td>\n",
       "      <td>Torgersen</td>\n",
       "      <td>36.7</td>\n",
       "      <td>19.3</td>\n",
       "      <td>193.0</td>\n",
       "      <td>3450.0</td>\n",
       "      <td>Female</td>\n",
       "    </tr>\n",
       "  </tbody>\n",
       "</table>\n",
       "</div>"
      ],
      "text/plain": [
       "  species     island  bill_length_mm  bill_depth_mm  flipper_length_mm  \\\n",
       "0  Adelie  Torgersen            39.1           18.7              181.0   \n",
       "1  Adelie  Torgersen            39.5           17.4              186.0   \n",
       "2  Adelie  Torgersen            40.3           18.0              195.0   \n",
       "3  Adelie  Torgersen             NaN            NaN                NaN   \n",
       "4  Adelie  Torgersen            36.7           19.3              193.0   \n",
       "\n",
       "   body_mass_g     sex  \n",
       "0       3750.0    Male  \n",
       "1       3800.0  Female  \n",
       "2       3250.0  Female  \n",
       "3          NaN     NaN  \n",
       "4       3450.0  Female  "
      ]
     },
     "execution_count": 3,
     "metadata": {},
     "output_type": "execute_result"
    }
   ],
   "source": [
    "penguins = sns.load_dataset('penguins')\n",
    "penguins.head()"
   ]
  },
  {
   "cell_type": "code",
   "execution_count": null,
   "metadata": {
    "pycharm": {
     "name": "#%%\n"
    }
   },
   "outputs": [],
   "source": []
  },
  {
   "cell_type": "code",
   "execution_count": null,
   "metadata": {
    "pycharm": {
     "name": "#%%\n"
    }
   },
   "outputs": [],
   "source": []
  },
  {
   "cell_type": "code",
   "execution_count": null,
   "metadata": {
    "pycharm": {
     "name": "#%%\n"
    }
   },
   "outputs": [],
   "source": []
  },
  {
   "cell_type": "markdown",
   "metadata": {
    "pycharm": {
     "name": "#%% md\n"
    }
   },
   "source": [
    "## "
   ]
  }
 ],
 "metadata": {
  "kernelspec": {
   "display_name": "Python 3 (ipykernel)",
   "language": "python",
   "name": "python3"
  },
  "language_info": {
   "codemirror_mode": {
    "name": "ipython",
    "version": 3
   },
   "file_extension": ".py",
   "mimetype": "text/x-python",
   "name": "python",
   "nbconvert_exporter": "python",
   "pygments_lexer": "ipython3",
   "version": "3.9.12"
  }
 },
 "nbformat": 4,
 "nbformat_minor": 2
}