{
 "cells": [
  {
   "cell_type": "markdown",
   "id": "6d154e2e",
   "metadata": {},
   "source": [
    "# Processamento dos Dados e Análise Exploratória dos Dados\n",
    "\n",
    "Nessa aula, iremos tratar dos seguintes conteúdos:\n",
    "- Processamento de Dados;\n",
    "- Análise Exploratória dos Dados;\n",
    "- Exercícios."
   ]
  },
  {
   "cell_type": "markdown",
   "id": "1504db68",
   "metadata": {},
   "source": [
    "## "
   ]
  },
  {
   "cell_type": "markdown",
   "id": "7d634547",
   "metadata": {},
   "source": [
    "## 1. Processamento dos Dados\n",
    "\n",
    "O processamento dos dados é uma fundamental etapa que impacta diretamente a __qualidade dos resultados da modelagem__. A princípio vamos imaginar um modelo de _Machine Learning_ como uma __caixa preta__ (em inglês _black-box_), onde ele irá receber dados, vai ocorrer algum processo matemático ali dentro do modelo e depois será devolvido um resultado para avaliarmos.\n",
    "\n",
    "<br>\n",
    "\n",
    "<img src = \"https://qph.cf2.quoracdn.net/main-qimg-cdc82f8af6f096331ae790ace3352541\" width = 500>\n",
    "\n",
    "fonte: [Quora](https://www.quora.com/Are-most-machine-learning-models-black-boxes)\n",
    "\n",
    "<br>\n",
    "\n",
    "Se o modelo receber dados ruins ou com qualidade duvidosa, os resultados serão de mesma magnitude ruins ou duvidosos. Então, é importante que seja feito um trabalho de limpeza e processamento dos dados para garantir que estão apropriados para o uso.\n",
    "\n",
    "Abaixo, vamos listar alguns tópicos sobre pontos relevantes a se avaliar nos dados, não necessariamente vão precisar fazer todos eles e também não são os únicos procedimnetos que podem serem feitos! Mas no geral, resolvem boa parte dos problemas que os dados podem apresentar.\n",
    "\n",
    "<br><br>\n",
    "\n",
    "### 1.1 Remoção de Duplicatas\n",
    "\n",
    "<br>\n",
    "\n",
    "A redundância no conjunto de dados pode acontecer por diversos fatores como por exemplo problemas na aquisição e armazenamento deste dados, alta correlação entre uma ou mais variáveis entre outras. No caso de tabelas (ou generalizando, em conjunto de dados estruturados), quando fala-se sobre dados __duplicados__ indica-se que um ou mais rgistros (linhas) têm valores nos atributos que coincidem (ou seja, todos valores nas colunas são iguais entre estas linhas).\n",
    "\n",
    "O efeito que dados duplicados podem causar nos modelos de _Machine Learning_ tendencionar o resultado do modelo em uma direção, em outras palavras, adicionar um __viés__ que possa impactar no resultado do modelo.\n",
    "\n",
    "<br>"
   ]
  },
  {
   "cell_type": "markdown",
   "id": "46130095",
   "metadata": {},
   "source": [
    "Vamos avaliar a questão de dados duplicado na base de dados `COVID.csv`, sobre casos de COVID registrados no México em 2020:"
   ]
  },
  {
   "cell_type": "code",
   "execution_count": 4,
   "id": "c59e3fbc",
   "metadata": {},
   "outputs": [],
   "source": [
    "import pandas as pd\n",
    "import numpy as np\n",
    "import seaborn as sns\n",
    "import matplotlib.pyplot as plt"
   ]
  },
  {
   "cell_type": "code",
   "execution_count": 6,
   "id": "ed7ff6d6",
   "metadata": {},
   "outputs": [],
   "source": [
    "covid = pd.read_csv(\"covid.csv\")"
   ]
  },
  {
   "cell_type": "code",
   "execution_count": 7,
   "id": "5b739552",
   "metadata": {},
   "outputs": [
    {
     "data": {
      "text/html": [
       "<div>\n",
       "<style scoped>\n",
       "    .dataframe tbody tr th:only-of-type {\n",
       "        vertical-align: middle;\n",
       "    }\n",
       "\n",
       "    .dataframe tbody tr th {\n",
       "        vertical-align: top;\n",
       "    }\n",
       "\n",
       "    .dataframe thead th {\n",
       "        text-align: right;\n",
       "    }\n",
       "</style>\n",
       "<table border=\"1\" class=\"dataframe\">\n",
       "  <thead>\n",
       "    <tr style=\"text-align: right;\">\n",
       "      <th></th>\n",
       "      <th>Unnamed: 0</th>\n",
       "      <th>sex</th>\n",
       "      <th>patient_type</th>\n",
       "      <th>intubed</th>\n",
       "      <th>pneumonia</th>\n",
       "      <th>age</th>\n",
       "      <th>pregnancy</th>\n",
       "      <th>diabetes</th>\n",
       "      <th>copd</th>\n",
       "      <th>asthma</th>\n",
       "      <th>inmsupr</th>\n",
       "      <th>hypertension</th>\n",
       "      <th>other_disease</th>\n",
       "      <th>cardiovascular</th>\n",
       "      <th>obesity</th>\n",
       "      <th>renal_chronic</th>\n",
       "      <th>tobacco</th>\n",
       "      <th>contact_other_covid</th>\n",
       "      <th>covid_res</th>\n",
       "      <th>icu</th>\n",
       "    </tr>\n",
       "  </thead>\n",
       "  <tbody>\n",
       "    <tr>\n",
       "      <th>0</th>\n",
       "      <td>0</td>\n",
       "      <td>0</td>\n",
       "      <td>1</td>\n",
       "      <td>NaN</td>\n",
       "      <td>0.0</td>\n",
       "      <td>27</td>\n",
       "      <td>NaN</td>\n",
       "      <td>0.0</td>\n",
       "      <td>0.0</td>\n",
       "      <td>0.0</td>\n",
       "      <td>0.0</td>\n",
       "      <td>0.0</td>\n",
       "      <td>0.0</td>\n",
       "      <td>0.0</td>\n",
       "      <td>0.0</td>\n",
       "      <td>0.0</td>\n",
       "      <td>0.0</td>\n",
       "      <td>0.0</td>\n",
       "      <td>1</td>\n",
       "      <td>NaN</td>\n",
       "    </tr>\n",
       "    <tr>\n",
       "      <th>1</th>\n",
       "      <td>1</td>\n",
       "      <td>0</td>\n",
       "      <td>1</td>\n",
       "      <td>NaN</td>\n",
       "      <td>0.0</td>\n",
       "      <td>24</td>\n",
       "      <td>NaN</td>\n",
       "      <td>0.0</td>\n",
       "      <td>0.0</td>\n",
       "      <td>0.0</td>\n",
       "      <td>0.0</td>\n",
       "      <td>0.0</td>\n",
       "      <td>0.0</td>\n",
       "      <td>0.0</td>\n",
       "      <td>0.0</td>\n",
       "      <td>0.0</td>\n",
       "      <td>0.0</td>\n",
       "      <td>NaN</td>\n",
       "      <td>1</td>\n",
       "      <td>NaN</td>\n",
       "    </tr>\n",
       "    <tr>\n",
       "      <th>2</th>\n",
       "      <td>2</td>\n",
       "      <td>1</td>\n",
       "      <td>0</td>\n",
       "      <td>0.0</td>\n",
       "      <td>0.0</td>\n",
       "      <td>54</td>\n",
       "      <td>0.0</td>\n",
       "      <td>0.0</td>\n",
       "      <td>0.0</td>\n",
       "      <td>0.0</td>\n",
       "      <td>0.0</td>\n",
       "      <td>0.0</td>\n",
       "      <td>0.0</td>\n",
       "      <td>0.0</td>\n",
       "      <td>1.0</td>\n",
       "      <td>0.0</td>\n",
       "      <td>0.0</td>\n",
       "      <td>NaN</td>\n",
       "      <td>1</td>\n",
       "      <td>0.0</td>\n",
       "    </tr>\n",
       "    <tr>\n",
       "      <th>3</th>\n",
       "      <td>3</td>\n",
       "      <td>0</td>\n",
       "      <td>0</td>\n",
       "      <td>0.0</td>\n",
       "      <td>1.0</td>\n",
       "      <td>30</td>\n",
       "      <td>NaN</td>\n",
       "      <td>0.0</td>\n",
       "      <td>0.0</td>\n",
       "      <td>0.0</td>\n",
       "      <td>0.0</td>\n",
       "      <td>0.0</td>\n",
       "      <td>0.0</td>\n",
       "      <td>0.0</td>\n",
       "      <td>0.0</td>\n",
       "      <td>0.0</td>\n",
       "      <td>0.0</td>\n",
       "      <td>NaN</td>\n",
       "      <td>1</td>\n",
       "      <td>0.0</td>\n",
       "    </tr>\n",
       "    <tr>\n",
       "      <th>4</th>\n",
       "      <td>4</td>\n",
       "      <td>1</td>\n",
       "      <td>0</td>\n",
       "      <td>0.0</td>\n",
       "      <td>0.0</td>\n",
       "      <td>60</td>\n",
       "      <td>0.0</td>\n",
       "      <td>1.0</td>\n",
       "      <td>0.0</td>\n",
       "      <td>0.0</td>\n",
       "      <td>0.0</td>\n",
       "      <td>1.0</td>\n",
       "      <td>0.0</td>\n",
       "      <td>1.0</td>\n",
       "      <td>0.0</td>\n",
       "      <td>0.0</td>\n",
       "      <td>0.0</td>\n",
       "      <td>NaN</td>\n",
       "      <td>1</td>\n",
       "      <td>0.0</td>\n",
       "    </tr>\n",
       "  </tbody>\n",
       "</table>\n",
       "</div>"
      ],
      "text/plain": [
       "   Unnamed: 0  sex  patient_type  intubed  pneumonia  age  pregnancy  \\\n",
       "0           0    0             1      NaN        0.0   27        NaN   \n",
       "1           1    0             1      NaN        0.0   24        NaN   \n",
       "2           2    1             0      0.0        0.0   54        0.0   \n",
       "3           3    0             0      0.0        1.0   30        NaN   \n",
       "4           4    1             0      0.0        0.0   60        0.0   \n",
       "\n",
       "   diabetes  copd  asthma  inmsupr  hypertension  other_disease  \\\n",
       "0       0.0   0.0     0.0      0.0           0.0            0.0   \n",
       "1       0.0   0.0     0.0      0.0           0.0            0.0   \n",
       "2       0.0   0.0     0.0      0.0           0.0            0.0   \n",
       "3       0.0   0.0     0.0      0.0           0.0            0.0   \n",
       "4       1.0   0.0     0.0      0.0           1.0            0.0   \n",
       "\n",
       "   cardiovascular  obesity  renal_chronic  tobacco  contact_other_covid  \\\n",
       "0             0.0      0.0            0.0      0.0                  0.0   \n",
       "1             0.0      0.0            0.0      0.0                  NaN   \n",
       "2             0.0      1.0            0.0      0.0                  NaN   \n",
       "3             0.0      0.0            0.0      0.0                  NaN   \n",
       "4             1.0      0.0            0.0      0.0                  NaN   \n",
       "\n",
       "   covid_res  icu  \n",
       "0          1  NaN  \n",
       "1          1  NaN  \n",
       "2          1  0.0  \n",
       "3          1  0.0  \n",
       "4          1  0.0  "
      ]
     },
     "execution_count": 7,
     "metadata": {},
     "output_type": "execute_result"
    }
   ],
   "source": [
    "covid.head()"
   ]
  },
  {
   "cell_type": "code",
   "execution_count": 13,
   "id": "236a9523",
   "metadata": {},
   "outputs": [
    {
     "data": {
      "text/plain": [
       "(499692, 20)"
      ]
     },
     "execution_count": 13,
     "metadata": {},
     "output_type": "execute_result"
    }
   ],
   "source": [
    "covid.shape"
   ]
  },
  {
   "cell_type": "code",
   "execution_count": 11,
   "id": "1aa5c6f7",
   "metadata": {},
   "outputs": [
    {
     "data": {
      "text/plain": [
       "499692"
      ]
     },
     "execution_count": 11,
     "metadata": {},
     "output_type": "execute_result"
    }
   ],
   "source": [
    "covid.duplicated().count()"
   ]
  },
  {
   "cell_type": "code",
   "execution_count": 10,
   "id": "f425b480",
   "metadata": {},
   "outputs": [
    {
     "data": {
      "text/html": [
       "<div>\n",
       "<style scoped>\n",
       "    .dataframe tbody tr th:only-of-type {\n",
       "        vertical-align: middle;\n",
       "    }\n",
       "\n",
       "    .dataframe tbody tr th {\n",
       "        vertical-align: top;\n",
       "    }\n",
       "\n",
       "    .dataframe thead th {\n",
       "        text-align: right;\n",
       "    }\n",
       "</style>\n",
       "<table border=\"1\" class=\"dataframe\">\n",
       "  <thead>\n",
       "    <tr style=\"text-align: right;\">\n",
       "      <th></th>\n",
       "      <th>Unnamed: 0</th>\n",
       "      <th>sex</th>\n",
       "      <th>patient_type</th>\n",
       "      <th>intubed</th>\n",
       "      <th>pneumonia</th>\n",
       "      <th>age</th>\n",
       "      <th>pregnancy</th>\n",
       "      <th>diabetes</th>\n",
       "      <th>copd</th>\n",
       "      <th>asthma</th>\n",
       "      <th>inmsupr</th>\n",
       "      <th>hypertension</th>\n",
       "      <th>other_disease</th>\n",
       "      <th>cardiovascular</th>\n",
       "      <th>obesity</th>\n",
       "      <th>renal_chronic</th>\n",
       "      <th>tobacco</th>\n",
       "      <th>contact_other_covid</th>\n",
       "      <th>covid_res</th>\n",
       "      <th>icu</th>\n",
       "    </tr>\n",
       "  </thead>\n",
       "  <tbody>\n",
       "  </tbody>\n",
       "</table>\n",
       "</div>"
      ],
      "text/plain": [
       "Empty DataFrame\n",
       "Columns: [Unnamed: 0, sex, patient_type, intubed, pneumonia, age, pregnancy, diabetes, copd, asthma, inmsupr, hypertension, other_disease, cardiovascular, obesity, renal_chronic, tobacco, contact_other_covid, covid_res, icu]\n",
       "Index: []"
      ]
     },
     "execution_count": 10,
     "metadata": {},
     "output_type": "execute_result"
    }
   ],
   "source": [
    "covid[covid.duplicated()].head()"
   ]
  },
  {
   "cell_type": "markdown",
   "id": "52d2412d",
   "metadata": {},
   "source": [
    "Uma forma de identificar as duplicadas é a partir da função `duplicated` do _Pandas_:"
   ]
  },
  {
   "cell_type": "code",
   "execution_count": null,
   "id": "b2bf2b7b",
   "metadata": {},
   "outputs": [],
   "source": []
  },
  {
   "cell_type": "code",
   "execution_count": null,
   "id": "2b323a7b",
   "metadata": {},
   "outputs": [],
   "source": []
  },
  {
   "cell_type": "code",
   "execution_count": null,
   "id": "6bdd5a53",
   "metadata": {},
   "outputs": [],
   "source": []
  },
  {
   "cell_type": "markdown",
   "id": "c2ea569d",
   "metadata": {},
   "source": [
    "Para __remover__ os dados duplicados basta utilizar a função `drop_duplicates` do _Pandas_:"
   ]
  },
  {
   "cell_type": "code",
   "execution_count": null,
   "id": "c4f9b443",
   "metadata": {},
   "outputs": [],
   "source": []
  },
  {
   "cell_type": "code",
   "execution_count": null,
   "id": "45ce423d",
   "metadata": {},
   "outputs": [],
   "source": []
  },
  {
   "cell_type": "code",
   "execution_count": null,
   "id": "37a49223",
   "metadata": {},
   "outputs": [],
   "source": []
  },
  {
   "cell_type": "markdown",
   "id": "2b8dbe14",
   "metadata": {},
   "source": [
    "A pergunta agora é, neste caso deveria ser removido os dados duplicados?\n",
    "\n",
    "Vamos acompanhar as bases antes e depois da remocão:"
   ]
  },
  {
   "cell_type": "code",
   "execution_count": null,
   "id": "f74542cf",
   "metadata": {},
   "outputs": [],
   "source": []
  },
  {
   "cell_type": "code",
   "execution_count": null,
   "id": "ede251f3",
   "metadata": {},
   "outputs": [],
   "source": []
  },
  {
   "cell_type": "code",
   "execution_count": null,
   "id": "0166074d",
   "metadata": {},
   "outputs": [],
   "source": []
  },
  {
   "cell_type": "markdown",
   "id": "96abd6a8",
   "metadata": {},
   "source": [
    "Este exemplo é bom para salientar que para fazer qualquer tipo de procedimento nos dados, deve-se __conhecer bem os dados__, como eles foram concebidos e suas peculiaridades!\n",
    "\n",
    "No caso dessa base de dados sobre o COVID, os registros são de pacientes distintos e por mais que tenha dados duplicados isso se deve por boa parte dos atributos serem dados categóricos.\n",
    "\n",
    "<br><br>"
   ]
  },
  {
   "cell_type": "markdown",
   "id": "aa75dc52",
   "metadata": {},
   "source": [
    "### 1.2 Remoção e/ou Preenchimento de Dados Faltantes\n",
    "\n",
    "<br>\n",
    "\n",
    "Ao se trabalhar com dados, um ods principais problemas no processo de tratamento e limpeza dos dados é lidar com dados faltantes. Muito desses dados faltantes surgiram devido a alguma falha de transposição dos dados (de um banco de dados a outro), falha no preenchimento destes dados ou até mesmo a faltam de preenchimento.\n",
    "\n",
    "Vamos discutir aqui sobre alguns casos que ocorrem no conjunto de dados `COVID.csv`:\n",
    "\n",
    "<br>"
   ]
  },
  {
   "cell_type": "code",
   "execution_count": null,
   "id": "fb13c45d",
   "metadata": {},
   "outputs": [],
   "source": []
  },
  {
   "cell_type": "code",
   "execution_count": null,
   "id": "ca98c180",
   "metadata": {},
   "outputs": [],
   "source": []
  },
  {
   "cell_type": "code",
   "execution_count": null,
   "id": "451863a6",
   "metadata": {},
   "outputs": [],
   "source": []
  },
  {
   "cell_type": "markdown",
   "id": "b1578ce6",
   "metadata": {},
   "source": [
    "<br><br>"
   ]
  },
  {
   "cell_type": "markdown",
   "id": "23a97ed4",
   "metadata": {},
   "source": [
    "### 1.3 Análise de Outliers\n",
    "\n",
    "<br>\n",
    "\n",
    "Os __Outliers__ (também como pontos fora da curva em português) são os pontos discrepantes em relação ao conjunto de dados, sendo identificados como valores muito extremos entre relação ao restante da distribuição. Assim como os casos anteriores é importante avaliar se o _outlier_ deve ser removido do conjunto de dados ou por mais que sejam muito discrepante, ainda sim faz sentido em relação a natureza dos dados. \n",
    "\n",
    "Por isso também, é importante existir uma sinergia com a equipe de Ciência de Dados e a área solicitante das análises, pois eles devem conhecer intimamente os dados!\n",
    "\n",
    "Vamos avaliar os outliers a partir das idades no _dataset_ `COVID.csv`:\n"
   ]
  },
  {
   "cell_type": "code",
   "execution_count": null,
   "id": "c78f655e",
   "metadata": {},
   "outputs": [],
   "source": []
  },
  {
   "cell_type": "code",
   "execution_count": null,
   "id": "ead34f79",
   "metadata": {},
   "outputs": [],
   "source": []
  },
  {
   "cell_type": "code",
   "execution_count": null,
   "id": "d8c93942",
   "metadata": {},
   "outputs": [],
   "source": []
  },
  {
   "cell_type": "markdown",
   "id": "5f0a7e84",
   "metadata": {},
   "source": [
    "## "
   ]
  },
  {
   "cell_type": "markdown",
   "id": "619fa3e4",
   "metadata": {},
   "source": [
    "## 2. Análise Exploratória dos Dados\n",
    "\n",
    "A análise exploratória dos dados (também conhecida como EDA) é um ponto crucial no sentido de conhecer intimamente o conjunto de dados, justamente onde a estatística serve como uma ferramenta poderosa no entendimento dos dados sendo:\n",
    "\n",
    "<br>\n",
    "\n",
    "- Levantando as estatísticas sobre os atributos do conjunto de dados;\n",
    "- Criando gráficos, box-plots e visualizações que auxiliem no entendimento;\n",
    "- Testes de Hipóteses para avaliar alguma condição específica (por exemplo separabilidade dos dados).\n",
    "\n",
    "<br>\n",
    "\n",
    "Não existe receita de bolo para a questão da EDA, dependendo muito dos dados e também do tipo de abordagem que o cientista de dados gosta de seguir. Vamos colocar um pouco em prática isso.\n",
    "\n",
    "<br><br>\n",
    "\n",
    "## 3. Exercícios\n",
    "\n",
    "<br>\n",
    "\n",
    "Utilizando o conjunto de dados `COVID.csv`, desenvolva os itens abaixo:\n",
    "\n",
    "- __1)__ Faça a limpeza e eventuais preenchimentos, remoções de dados duplicados e outliers de todas os atributos do conjunto de dados;\n",
    "\n",
    "- __2)__ Desenvolva uma análise exploratória dos dados e tire insights sobre o conjunto de dados."
   ]
  },
  {
   "cell_type": "code",
   "execution_count": null,
   "id": "f45c875c",
   "metadata": {},
   "outputs": [],
   "source": []
  },
  {
   "cell_type": "code",
   "execution_count": null,
   "id": "bf5df6d3",
   "metadata": {},
   "outputs": [],
   "source": []
  },
  {
   "cell_type": "code",
   "execution_count": null,
   "id": "4e862111",
   "metadata": {},
   "outputs": [],
   "source": []
  }
 ],
 "metadata": {
  "kernelspec": {
   "display_name": "Python 3 (ipykernel)",
   "language": "python",
   "name": "python3"
  },
  "language_info": {
   "codemirror_mode": {
    "name": "ipython",
    "version": 3
   },
   "file_extension": ".py",
   "mimetype": "text/x-python",
   "name": "python",
   "nbconvert_exporter": "python",
   "pygments_lexer": "ipython3",
   "version": "3.9.7"
  }
 },
 "nbformat": 4,
 "nbformat_minor": 5
}
